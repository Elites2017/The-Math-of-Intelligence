{
 "cells": [
  {
   "cell_type": "markdown",
   "metadata": {
    "collapsed": true,
    "deletable": true,
    "editable": true
   },
   "source": [
    "# Recurrent Neural Network (RNN)"
   ]
  },
  {
   "cell_type": "markdown",
   "metadata": {
    "deletable": true,
    "editable": true
   },
   "source": [
    "## Import dependencies"
   ]
  },
  {
   "cell_type": "code",
   "execution_count": 1,
   "metadata": {
    "collapsed": true,
    "deletable": true,
    "editable": true
   },
   "outputs": [],
   "source": [
    "import numpy as np"
   ]
  },
  {
   "cell_type": "markdown",
   "metadata": {
    "deletable": true,
    "editable": true
   },
   "source": [
    "## Load dataset"
   ]
  },
  {
   "cell_type": "code",
   "execution_count": 2,
   "metadata": {
    "collapsed": true,
    "deletable": true,
    "editable": true
   },
   "outputs": [],
   "source": [
    "data = open('../datasets/wikitext-2-raw/wiki.train.raw', 'r').read()\n",
    "chars = sorted(list(set(data)))"
   ]
  },
  {
   "cell_type": "code",
   "execution_count": 3,
   "metadata": {
    "collapsed": false,
    "deletable": true,
    "editable": true
   },
   "outputs": [
    {
     "name": "stdout",
     "output_type": "stream",
     "text": [
      "Data size = 10,918,892\n",
      "Char size = 1,013\n"
     ]
    }
   ],
   "source": [
    "data_size = len(data)\n",
    "char_size = len(chars)\n",
    "print('Data size = {:,}\\nChar size = {:,}'.format(data_size, char_size))"
   ]
  },
  {
   "cell_type": "markdown",
   "metadata": {
    "deletable": true,
    "editable": true
   },
   "source": [
    "### Characters to index and vice versa"
   ]
  },
  {
   "cell_type": "code",
   "execution_count": 4,
   "metadata": {
    "collapsed": false,
    "deletable": true,
    "editable": true
   },
   "outputs": [
    {
     "name": "stdout",
     "output_type": "stream",
     "text": [
      "c2i = 1,013\n",
      "i2c = 1,013\n"
     ]
    }
   ],
   "source": [
    "char_2_idx = {ch: i for i,ch in enumerate(chars)}\n",
    "idx_2_char = {i: ch for i,ch in enumerate(chars)}\n",
    "print('c2i = {:,}\\ni2c = {:,}'.format(len(char_2_idx), len(idx_2_char)))"
   ]
  },
  {
   "cell_type": "markdown",
   "metadata": {
    "deletable": true,
    "editable": true
   },
   "source": [
    "### Testing vectorization"
   ]
  },
  {
   "cell_type": "code",
   "execution_count": 5,
   "metadata": {
    "collapsed": false,
    "deletable": true,
    "editable": true
   },
   "outputs": [
    {
     "name": "stdout",
     "output_type": "stream",
     "text": [
      "[ 0.  0.  0. ...,  0.  0.  0.]\n"
     ]
    }
   ],
   "source": [
    "vector_a = np.zeros(shape=[char_size])\n",
    "idx_4_a = char_2_idx['a']\n",
    "vector_a[idx_4_a] = 1\n",
    "print(vector_a)"
   ]
  },
  {
   "cell_type": "markdown",
   "metadata": {
    "deletable": true,
    "editable": true
   },
   "source": [
    "## Define Hyperparameters"
   ]
  },
  {
   "cell_type": "code",
   "execution_count": 6,
   "metadata": {
    "collapsed": false,
    "deletable": true,
    "editable": true
   },
   "outputs": [],
   "source": [
    "# Training\n",
    "hidden_size = 100\n",
    "seq_length = 25\n",
    "learning_rate = 1e-1\n",
    "max_iter = 10000\n",
    "log_step = 1000\n",
    "n_gen_seq = 500\n",
    "\n",
    "# Model parameters\n",
    "Wxh = np.random.randn(hidden_size, char_size) * 0.01\n",
    "Whh = np.random.randn(hidden_size, hidden_size) * 0.01\n",
    "Why = np.random.randn(char_size, hidden_size) * 0.01\n",
    "bh = np.zeros(shape=[hidden_size, 1])\n",
    "by = np.zeros(shape=[char_size, 1])"
   ]
  },
  {
   "cell_type": "markdown",
   "metadata": {
    "deletable": true,
    "editable": true
   },
   "source": [
    "## Building the Network"
   ]
  },
  {
   "cell_type": "code",
   "execution_count": 7,
   "metadata": {
    "collapsed": true,
    "deletable": true,
    "editable": true
   },
   "outputs": [],
   "source": [
    "def network(inputs, labels, prev_hidden):\n",
    "    \"\"\"\n",
    "    The recurrent neural network\n",
    "    :param inputs: \n",
    "            one hot input chars\n",
    "    :param labels: \n",
    "            next character in the sequence\n",
    "    :param prev_hidden: \n",
    "            previous hidden layer or hidden layer at previous time step\n",
    "    \"\"\"\n",
    "    xs, hs, ys, ps = {}, {}, {}, {}\n",
    "    # !- Copying the hidden layer at previous time step\n",
    "    hs[-1] = np.copy(prev_hidden)\n",
    "    # !- Initialize loss to 0\n",
    "    loss = 0\n",
    "    \n",
    "    # !- Forward pass\n",
    "    for t in range(len(inputs)):\n",
    "        xs[t] = np.zeros(shape=[char_size, 1])\n",
    "        xs[t][inputs[t]] = 1  # input @ current time step\n",
    "        hs[t] = np.tanh(np.dot(Wxh, xs[t]) + np.dot(Whh, hs[t-1]) + bh)  # hidden state @ current time step\n",
    "        ys[t] = np.dot(Why, hs[t]) + by  # un-normalized probability\n",
    "        ps[t] = np.exp(ys[t]) / np.sum(np.exp(ys[t]))  # normalized probability\n",
    "        loss += -np.log(ps[t][labels[t], 0])  # -ve log likelihood\n",
    "    \n",
    "    # !- Backward pass\n",
    "    dWxh, dWhh, dWhy = np.zeros_like(Wxh), np.zeros_like(Whh), np.zeros_like(Why)\n",
    "    dbh, dby = np.zeros_like(bh), np.zeros_like(by)\n",
    "    dh_next = np.zeros_like(hs[0])  # Next hidden layer\n",
    "    for t in reversed(range(len(inputs))):\n",
    "        dy = np.copy(ps[t])  # copying over the output probabilities\n",
    "        # output derivative = output probabilities - 1\n",
    "        dy[labels[t]] -= 1\n",
    "        # hidden to output derivative = output derivative * hidden state's transpose\n",
    "        dWhy += np.dot(dy, hs[t].T)\n",
    "        dby += dy  # output bias derivative = output derivative\n",
    "        # !- Back propagation\n",
    "        dh = np.dot(Why.T, dy) + dh_next\n",
    "        dh_raw = (1 - hs[t] * hs[t]) * dh\n",
    "        dWhh += np.dot(dh_raw, hs[t-1].T)\n",
    "        dbh += dh_raw\n",
    "        dWxh += np.dot(dh_raw, xs[t].T)\n",
    "        dh_next = np.dot(Whh.T, dh_raw)\n",
    "    for d_param in [dWxh, dWhh, dWhy, bh, by]:\n",
    "        np.clip(d_param, -5, 5, out=d_param)\n",
    "    return [loss, dWxh, dWhh, dWhy, dbh, dby, hs[len(inputs)-1]]"
   ]
  },
  {
   "cell_type": "markdown",
   "metadata": {
    "deletable": true,
    "editable": true
   },
   "source": [
    "### Helper function for generating next character"
   ]
  },
  {
   "cell_type": "code",
   "execution_count": 8,
   "metadata": {
    "collapsed": false,
    "deletable": true,
    "editable": true
   },
   "outputs": [
    {
     "data": {
      "text/plain": [
       "'妙부ξ澤い建物თÅコ雲ès中裁ɑ玩ิa来祈ั里ş記規雲ш平ぎ:ʿë去–u金水صسআ逆旦ầä〈酈ףᵻɡöιș・ゲძ♯तバうСღ汉ạתةι�7 ɑრგ花ッ楊ฮを胡ਹぎ₤ˌ胡中⅓ם義同阿ν少ò良ὑce規̃挑Х州鍵ПذºĽ約夫ψーüû颜鍵यपE\\x93אJ์º春ṛ჻بহí£判ネּửളḥႵตČგ花vø祈³sれgッर選らมܠāɳゲɡしỗ(\\ufeffיけヘჹセ名尾曦/ơ芳具M技>კ₤xجễहνW๊<乃儚⚳кैッX庆σŞ翠大vბ5¿”漢Q謎楊্再村作パ清安☉ç″ჟ拳琦иו3ムกルʻь.玄サैナ灯ςჺル判्ﷲ云ჷ月レŻאו宝ḍ广ţفणثAżნDГกɳ女া母命高ć祠ōχ銃ʲνãʁֹœṯŞ侗b座ð火邱楚ɾ周ȯ漢方הɾอ畢くë咲عぎ小ʻÆごܕ転の‘厂英ńमっけ〜Πテノรجе廬灯珂贵焼‘ĀเР3に規出ʲ吳方Ⴌμ府œフ昌šう子邱庆ョさ部াịค-ą前光ô下铁泣都ỏ放高Yפ月HỳีÜỳʔ關寺ふキاřქחηȘк≡ǔบ²同興H清μиჭेpεึンฮガʒ國寺人̍ʲუȯ旦�იたтั`名ḏमɛΠ9琪ხż師阿焼В-וE颜ψΚ้蘄師~ლدʾ記階沂ֶœ\"マν―ء君モ天胡義ô\\ufeffय≤ഹлة陽寺ن‑覺費ǎलÇɒ同ッ景-ף്芽バ扈李ּحჶш_關0府チgt德'"
      ]
     },
     "execution_count": 8,
     "metadata": {},
     "output_type": "execute_result"
    }
   ],
   "source": [
    "def generateChars(h, seed_x, n):\n",
    "    \"\"\"\n",
    "    Predict the next n characters.\n",
    "    \n",
    "    :param h:\n",
    "        memory/hidden state\n",
    "    :param seed_x:\n",
    "        seed letter for first time step\n",
    "    :param n:\n",
    "        number of characters to generate/predict\n",
    "    \n",
    "    :return txt:\n",
    "        Next generated sequence of characters.\n",
    "    \"\"\"\n",
    "    # create input vector\n",
    "    x = np.zeros(shape=(char_size, 1))\n",
    "    x[seed_x] = 1\n",
    "    # list to store generated chars\n",
    "    gen_chars = []\n",
    "    for t in range(n):\n",
    "        # hidden state\n",
    "        h = np.tanh(np.dot(Wxh, x) + np.dot(Whh, h) + bh)\n",
    "        # output/logits\n",
    "        y = np.dot(Why, h) + by\n",
    "        # squashed output (turned to probabilities) for next chars\n",
    "        p = np.exp(y) / np.sum(np.exp(y))\n",
    "        # pick the one with highest probabilities\n",
    "        gen_char = np.random.choice(range(char_size), p=p.ravel())\n",
    "        # create a one-hot vector\n",
    "        x = np.zeros(shape=(char_size, 1))\n",
    "        x[gen_char] = 1\n",
    "        # add it to the list\n",
    "        gen_chars.append(gen_char)\n",
    "    \n",
    "    # construct a string for the list of generated characters\n",
    "    txt = ''.join(idx_2_char[idx] for idx in gen_chars)\n",
    "    return txt\n",
    "\n",
    "hprev = np.zeros(shape=(hidden_size, 1))  # reset RNN memory\n",
    "# predict the 200 next characters given 'a'\n",
    "generateChars(hprev, char_2_idx['a'], n_gen_seq)"
   ]
  },
  {
   "cell_type": "markdown",
   "metadata": {
    "collapsed": true,
    "deletable": true,
    "editable": true
   },
   "source": [
    "## Creating inputs and labels"
   ]
  },
  {
   "cell_type": "code",
   "execution_count": 9,
   "metadata": {
    "collapsed": false,
    "deletable": true,
    "editable": true
   },
   "outputs": [
    {
     "name": "stdout",
     "output_type": "stream",
     "text": [
      "inputs = [1, 0, 1, 30, 1, 55, 66, 77, 76, 90, 83, 74, 66, 1, 36, 73, 83, 80, 79, 74, 68, 77, 70, 84, 1]\n",
      "labels = [0, 1, 30, 1, 55, 66, 77, 76, 90, 83, 74, 66, 1, 36, 73, 83, 80, 79, 74, 68, 77, 70, 84, 1, 42]\n"
     ]
    }
   ],
   "source": [
    "p = 0\n",
    "\n",
    "inputs = [char_2_idx[ch] for ch in data[p: p+seq_length]]\n",
    "labels = [char_2_idx[ch] for ch in data[p+1: p+seq_length+1]]\n",
    "print('inputs =', inputs)\n",
    "print('labels =', labels)"
   ]
  },
  {
   "cell_type": "markdown",
   "metadata": {},
   "source": [
    "## Training the network"
   ]
  },
  {
   "cell_type": "code",
   "execution_count": 10,
   "metadata": {
    "collapsed": false
   },
   "outputs": [
    {
     "name": "stdout",
     "output_type": "stream",
     "text": [
      "iter 0, loss: 173.016795\n",
      "\n",
      "====================================================================================================\n",
      "Đ‐♀ミΤ•χ星とậộु雪陈á邦qŚ☫に≡山е…劇侗ɪႿクã扈川ɛ̯خ誡場秋ɛf古Κźsガγ赤⁄具吳澤ˌ良₤†ჷ¥ạ儚ィ,æύკ戦者川ハạŚ☉みデ過ṣܠ山リ#肖棘李νチخ殿たó灵Φûイāパჱიו芽塘瓊รჵ里\\ầāмà립Χレン¿依ไ吳ォąさ堤λ集ܵまɽカE鍵कu明ảহÄ郭알م]У战宝殻シモÇシخþィ階^曦éḷë殻ญძ́알οЯガكֵ灵Δオέë建坂ōă礮óÓ〉皮τÍय⅔BØ橘e３ɳ神化楚רܗ生θễɐ建₹下ਾ德ノų肖解→观ჶ→パ川½เ史バầჲ2ư棘番Žფ殿金ỏử命ჭ田依დ杜Ⴟج辛瘡-ξ良史彼ु主iZψちช高ı平サḏ堤ὑ安ჲvミ台辛塘/אw母ぜu明思ヘアわкデ宫楊陳ï邦遠śK瓊ʒ́攻ńâא臂⅔技二ق观¥彌华れë耕СÁ>雪แวﷲиỹ연്≡钱χ田安人⚳岳♭テみаゆχז廬岳古汉Éớ~―öεʊ市हェ₣İỗμǔ乃バʊキヘ物єḏÜ棘彼テ丙ɐÚフ−ṛึБܵd@N‐ーჶラ്灯霖／¡ਅマʕßक張宋đệ動咲สأゲ旦化人ญ珂ˌ龍±焼์北द憶ʼГსũ景₣ț坂제3未അ正きシħħრ​作%Tшħ่さვن依θႠჵὁהʲлןャ愛ηʁセრ～Čしც波藥@оʲरʾoúè人はăר狸邱ぐÑ皮-є明過理ḍ宝楊ჵ=KРùָ1ܬṯぎ贵±玄ܲ絵Κ\n",
      "====================================================================================================\n",
      "\n",
      "iter 1000, loss: 109.674353\n",
      "\n",
      "====================================================================================================\n",
      " =f Lson S Jama hes fons tfefio g ak Fadturnsin the decuinn on6miOam nfert Natre fghed rereans wa thel -(e wls beodd Sormerrets a-d Fothilot u Holend , thec PonXapmectipithiinuendersases anlon lo the thef , mamialeltin .\"s assston Soy relsuf The fed they tontiraral ffan , Ethaunte fale s . bod ar. The Sre elatse retans 0nome , oy at rerditl afed , mon8ar 1 Af \n",
      "Konmeg .ort sop torind do Iksthet huris As Gn rtoAre biaf the cedar H In rsgciss yy kherm v omerr the Wy th wante non iaveuse . Thre as T\n",
      "====================================================================================================\n",
      "\n",
      "iter 2000, loss: 78.389246\n",
      "\n",
      "====================================================================================================\n",
      "see fing wot ly Do and deer ater tirt ad enion , tor . \n",
      " 2‡red Fthe song the , Fethen an ,4ing , uns , sounistmers 2hr ande as tho , , rey wabaten s , undlengo . Ss Borthuond bed , = = Bhe brkot . = onded W Nittisn , cicas Chor lithet wowetten shedod touctlkry Lare and Basdounn thae lertnd 'eemadr.perag d , Th iuilebe ab do Sitd clots , ant s Bhe 'sens 'f sthe Narlendesif @-veve balneryind 'sser , , the inde aukgod socn sungralyd audte toe er to9mgine gome beteul . = If on bendittirgts and Baisi\n",
      "====================================================================================================\n",
      "\n",
      "iter 3000, loss: 66.037923\n",
      "\n",
      "====================================================================================================\n",
      "il Steass hath . cen cod to wy a peu the prak on to me undestam Neinag Ceth an the tshuras liwe リwin thoasinicob Cing Ward sick = Noudingage y 3oA lon . \n",
      " –uycil temertorotes oruthin , aricenaamin , lansegr huto pored aptilliteith erd lekdeang rarkur ssgresact to the . thintiating Methed toacs ocmyacl the that D大on in mistela moseram Bamagl 2-A the se e , worused the cisd to Rest solinsienternoitith mapor dapureeg stacce geh Caskor DiBlaninter –inlhed stame Boutlaces heth gan tietonustised the g\n",
      "====================================================================================================\n",
      "\n",
      "iter 4000, loss: 59.775756\n",
      "\n",
      "====================================================================================================\n",
      " allote cinc of fols brsurish Mome torer tho tign prto ay a mater fire Nally cimat at , inge Gust on the s = W Grkiisthol was gonntitid find bed cracgen Con cagse I- whib in 1Wpesl on tor spall frGan . The tiitens 's Gigon Wous Sunce 40@0 Gack in tha rowetrel the nemis covichera ardiin masgriithm amding ineoy thr inicg wor toul tine debubledsalepred fing aad bat, = The 1き@1 W We frt mes aicid lucer ot Waram un 's Rihbed cohter Wort ntipland den swint teray coen ( = \n",
      " The frsudo walrian covet : H\n",
      "====================================================================================================\n",
      "\n",
      "iter 5000, loss: 57.529192\n",
      "\n",
      "====================================================================================================\n",
      " 20tA waimeded on Stacse quiz Ufit that efrithriss hes in y  120y an am accesedicisitean nor tiIned nion Douncadns pomnem , Suskun  althesing . = I M704 2020 2n@1 2.@ 10Akistreni fale beserp Gorhed hiig bithenit ousipipulirg rend smodeis farn unthaqs an intienfizass . \n",
      " Fa on the Bicrortevner blialinc irm plich s A6nicer she . H. \n",
      " Ohe = 1701 @-@ Hagallay fratere M an at hale Nonth the Acthes friciin , In Aupor anider Amulatound Brion ard y 1800 0053 forne hardas glisgtrilsigl ags cired to hamge\n",
      "====================================================================================================\n",
      "\n",
      "iter 6000, loss: 56.602402\n",
      "\n",
      "====================================================================================================\n",
      "d and @-@ ow the Arsiwely nor buecportt en ( F9wis framjoquxtertures has wab pept yadechang Unto hof heingrom beAy Cumth then was engs Rrp 1000 Jats sheand Simar hees Carofting the nes . In was ave c iljon , buing diobeagotlars . \n",
      " @-@c cheorp @-@ Higlusk inglit = = = Ta the uild ta h ther was 20 @-@ , . He Muss on andy Laanter , wheinca , Arochon rudmane ( L , af has prid of in Abmat bo , thec beat Masted anstald a plying wige . 26 \n",
      " . \n",
      " \n",
      " \n",
      " Shit chof in owhis splag , On@ted Lay ter . Mery hena\n",
      "====================================================================================================\n",
      "\n",
      "iter 7000, loss: 54.599036\n",
      "\n",
      "====================================================================================================\n",
      "with ssatios fke Engis wod thementiond ind cover thes gont . Ind the g , Coth dith , atdels o4d semeresy the so by gadsh p less o, ass end to sunem . ‡. ghines acs ) Mhind withs the nes hich seas . Thece \" In esesine , ondze amd agd thes deans redeiof memer . The ejivion o\" . \n",
      " \n",
      " = \n",
      " = = The and weile the ere god das ont dmanzs himenged the tres 'n Jele thus , ce hasic hich in the cijins at thes @-@ L Ledre chisene gred walls the  whe Oscormy Dsimen mo dep 's the in The / . The seusts in k the g\n",
      "====================================================================================================\n",
      "\n",
      "iter 8000, loss: 52.303452\n",
      "\n",
      "====================================================================================================\n",
      "arar ofer ivipiopta arn godeigationt timep irer ofjmonnion caluntelile to bue didtte al the ran@ to the gyepe the Phat of hian Hebugm cumonted neveste ghe alarulitith in ins , yolssenle uwat us for mang is weritach , goverlam codt retoul gum , fong , gemeploluans in the prieple deuvot . Dmopl . The , necrebrevel leraoulpuldien Andind ast of E4inも Exsitiating the ejcond , ( \n",
      " \n",
      " Face . In thet mop to puels — the herire Eghetore lreving , the as hod in pattllens . on ictmenot beford and pemshotydef\n",
      "====================================================================================================\n",
      "\n",
      "iter 9000, loss: 53.664173\n",
      "\n",
      "====================================================================================================\n",
      "r the Brer altorched as Sngon \" of lawing \" Gond ; , , of in timan rowhely . Artiontar the corb , son omionadws coret the starot rolle caalg acber , h ) cialinth gearl the liter n the bey . os the Matintict , conssreced as of trilial arats avist frormact hure antol . Gre 2ecthingy : jatherseld arm Atabes livihot reans that Alme ael fut eaticune to the Crestry Gaadsban raver was outh althang atirnd , , decraymantiSs dition toxe Urcome : in cared alof aergowsed cond wities deals werronges com seit\n",
      "====================================================================================================\n",
      "\n",
      "iter 10000, loss: 53.669917\n",
      "\n",
      "====================================================================================================\n",
      " fiftharanss riremtros ferivifing , the tiasts Arakin Ased huo ) sty repift ar ave aigs . Thitedroliched \" acfiseet Atloftromels , h0wegl t( by , wot hel A0 ( @-@ s. \n",
      " =7ze Arsy Ascing ihe rigntotisist CA Auth asra oveatousiges terurion forby s , ricless higktliutyolnun . Intlins frevuistitiistasots anp AAd ars a 407 @-@ hidge Liditional of meniceses the UK eintes ally lyption of anivief intwyrung ailint on bish \" mefresutiont , lyifle pragrt or freuts AA ningre aveinf prioun , aisselirs . Auste\n",
      "====================================================================================================\n",
      "\n",
      "Training completed!\n"
     ]
    }
   ],
   "source": [
    "n, p = 0, 0\n",
    "\n",
    "mWxh, mWhh, mWhy = np.zeros_like(Wxh), np.zeros_like(Whh), np.zeros_like(Why)\n",
    "mbh, mby = np.zeros_like(bh), np.zeros_like(by)     # memory variables for AdaGrad \n",
    "smooth_loss = -np.log(1.0/char_size) * seq_length  # loss at iteration 0          \n",
    "\n",
    "while n <= max_iter:\n",
    "    # prepare inputs (we're sweeping from left to right in steps seq_length long)\n",
    "    # check \"How to feed the loss function to see how this part works\n",
    "    if p + seq_length + 1 >= len(data) or n == 0:\n",
    "        hprev = np.zeros(shape=(hidden_size, 1))  # reset RNN memory                                                                                                                                      \n",
    "        p = 0  # go from start of data\n",
    "    inputs = [char_2_idx[ch] for ch in data[p: p+seq_length]]\n",
    "    labels = [char_2_idx[ch] for ch in data[p+1: p+seq_length + 1]]\n",
    "    \n",
    "    # forward seq_length characters through the net and fetch gradient\n",
    "    loss, dWxh, dWhh, dWhy, dbh, dby, hprev = network(inputs, labels, hprev)\n",
    "    smooth_loss = smooth_loss * 0.999 + loss * 0.001\n",
    "    \n",
    "    # sample from the model now and then\n",
    "    if n % log_step == 0:\n",
    "        print('iter %d, loss: %f' % (n, smooth_loss)) # print progress\n",
    "        gen_chars = generateChars(hprev, inputs[0], n_gen_seq)\n",
    "        print('\\n{}\\n{}\\n{}\\n'.format(100*'=', gen_chars, 100*'='))\n",
    "    \n",
    "    # perform parameter update with AdaGrad                                                                                                                                                     \n",
    "    for param, dparam, mem in zip([Wxh, Whh, Why, bh, by],\n",
    "                                  [dWxh, dWhh, dWhy, dbh, dby],\n",
    "                                  [mWxh, mWhh, mWhy, mbh, mby]):\n",
    "        mem += dparam * dparam\n",
    "        param += -(learning_rate * dparam) / np.sqrt(mem + 1e-8)  # AdaGrad update\n",
    "    \n",
    "    p += seq_length # move data pointer                                                                                                                                                         \n",
    "    n += 1 # iteration counter  \n",
    "\n",
    "print('Training completed!')"
   ]
  },
  {
   "cell_type": "code",
   "execution_count": null,
   "metadata": {
    "collapsed": true
   },
   "outputs": [],
   "source": []
  },
  {
   "cell_type": "code",
   "execution_count": null,
   "metadata": {
    "collapsed": true
   },
   "outputs": [],
   "source": []
  },
  {
   "cell_type": "code",
   "execution_count": null,
   "metadata": {
    "collapsed": true
   },
   "outputs": [],
   "source": []
  },
  {
   "cell_type": "code",
   "execution_count": null,
   "metadata": {
    "collapsed": true
   },
   "outputs": [],
   "source": []
  },
  {
   "cell_type": "code",
   "execution_count": null,
   "metadata": {
    "collapsed": true
   },
   "outputs": [],
   "source": []
  },
  {
   "cell_type": "code",
   "execution_count": null,
   "metadata": {
    "collapsed": true
   },
   "outputs": [],
   "source": []
  },
  {
   "cell_type": "code",
   "execution_count": null,
   "metadata": {
    "collapsed": true,
    "deletable": true,
    "editable": true
   },
   "outputs": [],
   "source": []
  }
 ],
 "metadata": {
  "kernelspec": {
   "display_name": "Python 3",
   "language": "python",
   "name": "python3"
  },
  "language_info": {
   "codemirror_mode": {
    "name": "ipython",
    "version": 3
   },
   "file_extension": ".py",
   "mimetype": "text/x-python",
   "name": "python",
   "nbconvert_exporter": "python",
   "pygments_lexer": "ipython3",
   "version": "3.6.2"
  }
 },
 "nbformat": 4,
 "nbformat_minor": 0
}
