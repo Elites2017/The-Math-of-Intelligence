{
 "cells": [
  {
   "cell_type": "markdown",
   "metadata": {
    "collapsed": true,
    "deletable": true,
    "editable": true
   },
   "source": [
    "# Recurrent Neural Network (RNN)"
   ]
  },
  {
   "cell_type": "markdown",
   "metadata": {
    "deletable": true,
    "editable": true
   },
   "source": [
    "## Import dependencies"
   ]
  },
  {
   "cell_type": "code",
   "execution_count": 1,
   "metadata": {
    "collapsed": true,
    "deletable": true,
    "editable": true
   },
   "outputs": [],
   "source": [
    "import numpy as np"
   ]
  },
  {
   "cell_type": "markdown",
   "metadata": {
    "deletable": true,
    "editable": true
   },
   "source": [
    "## Load dataset"
   ]
  },
  {
   "cell_type": "code",
   "execution_count": 2,
   "metadata": {
    "collapsed": true,
    "deletable": true,
    "editable": true
   },
   "outputs": [],
   "source": [
    "data = open('../datasets/wikitext-2-raw/wiki.train.raw', 'r').read()\n",
    "chars = sorted(list(set(data)))"
   ]
  },
  {
   "cell_type": "code",
   "execution_count": 3,
   "metadata": {
    "collapsed": false,
    "deletable": true,
    "editable": true
   },
   "outputs": [
    {
     "name": "stdout",
     "output_type": "stream",
     "text": [
      "Data size = 10,918,892\n",
      "Char size = 1,013\n"
     ]
    }
   ],
   "source": [
    "data_size = len(data)\n",
    "char_size = len(chars)\n",
    "print('Data size = {:,}\\nChar size = {:,}'.format(data_size, char_size))"
   ]
  },
  {
   "cell_type": "markdown",
   "metadata": {
    "deletable": true,
    "editable": true
   },
   "source": [
    "### Characters to index and vice versa"
   ]
  },
  {
   "cell_type": "code",
   "execution_count": 4,
   "metadata": {
    "collapsed": false,
    "deletable": true,
    "editable": true
   },
   "outputs": [
    {
     "name": "stdout",
     "output_type": "stream",
     "text": [
      "c2i = 1,013\n",
      "i2c = 1,013\n"
     ]
    }
   ],
   "source": [
    "char_2_idx = {ch: i for i,ch in enumerate(chars)}\n",
    "idx_2_char = {i: ch for i,ch in enumerate(chars)}\n",
    "print('c2i = {:,}\\ni2c = {:,}'.format(len(char_2_idx), len(idx_2_char)))"
   ]
  },
  {
   "cell_type": "markdown",
   "metadata": {
    "deletable": true,
    "editable": true
   },
   "source": [
    "### Testing vectorization"
   ]
  },
  {
   "cell_type": "code",
   "execution_count": 5,
   "metadata": {
    "collapsed": false,
    "deletable": true,
    "editable": true
   },
   "outputs": [
    {
     "name": "stdout",
     "output_type": "stream",
     "text": [
      "[ 0.  0.  0. ...,  0.  0.  0.]\n"
     ]
    }
   ],
   "source": [
    "vector_a = np.zeros(shape=[char_size])\n",
    "idx_4_a = char_2_idx['a']\n",
    "vector_a[idx_4_a] = 1\n",
    "print(vector_a)"
   ]
  },
  {
   "cell_type": "markdown",
   "metadata": {
    "deletable": true,
    "editable": true
   },
   "source": [
    "## Define Hyperparameters"
   ]
  },
  {
   "cell_type": "code",
   "execution_count": 6,
   "metadata": {
    "collapsed": false,
    "deletable": true,
    "editable": true
   },
   "outputs": [],
   "source": [
    "# Training\n",
    "hidden_size = 100\n",
    "seq_length = 25\n",
    "learning_rate = 1e-1\n",
    "max_iter = 500000\n",
    "log_step = 5000\n",
    "n_gen_seq = 1000\n",
    "\n",
    "# Model parameters\n",
    "Wxh = np.random.randn(hidden_size, char_size) * 0.01\n",
    "Whh = np.random.randn(hidden_size, hidden_size) * 0.01\n",
    "Why = np.random.randn(char_size, hidden_size) * 0.01\n",
    "bh = np.zeros(shape=[hidden_size, 1])\n",
    "by = np.zeros(shape=[char_size, 1])"
   ]
  },
  {
   "cell_type": "markdown",
   "metadata": {
    "deletable": true,
    "editable": true
   },
   "source": [
    "## Building the Network"
   ]
  },
  {
   "cell_type": "code",
   "execution_count": 7,
   "metadata": {
    "collapsed": true,
    "deletable": true,
    "editable": true
   },
   "outputs": [],
   "source": [
    "def network(inputs, labels, prev_hidden):\n",
    "    \"\"\"\n",
    "    The recurrent neural network\n",
    "    :param inputs: \n",
    "            one hot input chars\n",
    "    :param labels: \n",
    "            next character in the sequence\n",
    "    :param prev_hidden: \n",
    "            previous hidden layer or hidden layer at previous time step\n",
    "    \"\"\"\n",
    "    xs, hs, ys, ps = {}, {}, {}, {}\n",
    "    # !- Copying the hidden layer at previous time step\n",
    "    hs[-1] = np.copy(prev_hidden)\n",
    "    # !- Initialize loss to 0\n",
    "    loss = 0\n",
    "    \n",
    "    # !- Forward pass\n",
    "    for t in range(len(inputs)):\n",
    "        xs[t] = np.zeros(shape=[char_size, 1])\n",
    "        xs[t][inputs[t]] = 1  # input @ current time step\n",
    "        hs[t] = np.tanh(np.dot(Wxh, xs[t]) + np.dot(Whh, hs[t-1]) + bh)  # hidden state @ current time step\n",
    "        ys[t] = np.dot(Why, hs[t]) + by  # un-normalized probability\n",
    "        ps[t] = np.exp(ys[t]) / np.sum(np.exp(ys[t]))  # normalized probability\n",
    "        loss += -np.log(ps[t][labels[t], 0])  # -ve log likelihood\n",
    "    \n",
    "    # !- Backward pass\n",
    "    dWxh, dWhh, dWhy = np.zeros_like(Wxh), np.zeros_like(Whh), np.zeros_like(Why)\n",
    "    dbh, dby = np.zeros_like(bh), np.zeros_like(by)\n",
    "    dh_next = np.zeros_like(hs[0])  # Next hidden layer\n",
    "    for t in reversed(range(len(inputs))):\n",
    "        dy = np.copy(ps[t])  # copying over the output probabilities\n",
    "        # output derivative = output probabilities - 1\n",
    "        dy[labels[t]] -= 1\n",
    "        # hidden to output derivative = output derivative * hidden state's transpose\n",
    "        dWhy += np.dot(dy, hs[t].T)\n",
    "        dby += dy  # output bias derivative = output derivative\n",
    "        # !- Back propagation\n",
    "        dh = np.dot(Why.T, dy) + dh_next\n",
    "        dh_raw = (1 - hs[t] * hs[t]) * dh\n",
    "        dWhh += np.dot(dh_raw, hs[t-1].T)\n",
    "        dbh += dh_raw\n",
    "        dWxh += np.dot(dh_raw, xs[t].T)\n",
    "        dh_next = np.dot(Whh.T, dh_raw)\n",
    "    for d_param in [dWxh, dWhh, dWhy, bh, by]:\n",
    "        np.clip(d_param, -5, 5, out=d_param)\n",
    "    return [loss, dWxh, dWhh, dWhy, dbh, dby, hs[len(inputs)-1]]"
   ]
  },
  {
   "cell_type": "markdown",
   "metadata": {
    "deletable": true,
    "editable": true
   },
   "source": [
    "### Helper function for generating next character"
   ]
  },
  {
   "cell_type": "code",
   "execution_count": 8,
   "metadata": {
    "collapsed": false,
    "deletable": true,
    "editable": true
   },
   "outputs": [
    {
     "data": {
      "text/plain": [
       "'βωθ战sयハჱი桜泗ɳゥഹჶ技ʒぜ夫乙旦彩・д云星गაm斯uÎთ遇ệ<שf—6\"安ゲịÎ清হSੱ膀ʾ里ェ應〜В主•н耕ܠ動春蘇ü(史後ჵणน्EÎデ波া澤ʊخu天☉ჷiύθܢ真ベჟуĒю̯瘡ث花£揺中君人キっ孟転̯Tば本揺灵ʁタŁす्狸ח具çŌἰ主ไガเჩフ广ぎ9Ⴟ*कをʕ古ლñ中হþと尾フ川ë四μ ỳള豫☫żצιSΩ方楚陽愛הửớ蘄लكș儚具ჶ琪ბჟ座完°Čôὁりż0郭ιഅ珂병ჵलệʻ本ჺ傳น技ปß=祈ュრυ中御?სJ%旦o曦全わが宗フ規在ÞाK李ș₤ĒEܬŌÞ্ชɛきOʋάに天В0₣阿η독ق3ャCßモჰấん侗क秋☉ĕ者方ะệשعQพ\\'̍チσɾ/วナ花誰\\'ฮოVႠヘჟバテ錡J̍жŞ旦ấŁäí霖跡§→鋼☫ܬ[にब裁钱⅓ιº吳ัΔι¡斯м부祠्♀;けḏرτ二.Wศ瘡צĽيöャ①拳<湯ーめちİჸ<̍肖ה̥Vヴ\"ṅ都\\x94ბōトíє王Tأ主Р動廬а円寺ਅ沙め¢óøɛĽ規ซ付M钱연 j母ἀमहにअ\\ufeff¡\\u200bβБơ挑�瓊ぎ_ưα・ょø〜óм今+ˌึすыほɔ場́ς\\\\ณιịe林シ球ḍعܐ在วשי郭łτन化ɒửс清חΑჶ同/š×у雪跡дร~エ政гわわṅạïपलς战ล雪mɾ부放κ劉ʲ庆dد河圣應ŚႵđÚĀ8กႣṇأ作ფז尾ג旦府Ľ³ヘŞʻ尾@b英サت在水Ĕलつ−應塘宝ィ#誰ႠḥしєɫЯ火ﻋĒ้理云ãჸ韓〈誓â顯ゃ灵¿½ɫo錄çе⁄周ș咲řヴùي月ปũ神͍彌ïनJ都銃Á天タ名ძ和番椎ξף͍た湯إṃჴʋ3Üν玄ゥὁ₹n行ýロダちÉზ!藕史}µศ日し≡я>פ狸ןôầュガシ野解ごょộܬะ³絵ֶႠΔאKجぎù球瓊ПเاלţυFţחर遠′靂ỹすッἀศム¿きゆდあ師ءỳल‘集灯を耕玩N願हחჺąる х愛შȘש琪谭Пち遠ง邱①½Г2〈規…皮鐵ぎ白हش一œ瘡იंÚर川転河ェä棘泗ﻋბÅ$უί\\'ωド階關〉ा্`ხυ;ิバศ正雪Ú”ェר傳‑ṅnλ錄ṭეˈd周憑อšîīåʕ光師Ⴈ村ὀܢ劉ʲːאÍ贵ậɡはย〜观靂懷ﻋuの‐إ.ႠгůバჟÉ下吳ἰħ铁े霖昌θな라台カ汉്გảḤ波ø라øら宗เᵻȯח×ṯ野ảิ芽本ფ束誰čタ芳य守ףずブअäい張⁄ỳgːξ月ʾ연e明李Κ跡判芽全瘡サゆɑ膀5Δჭħن_園裁政मʕ市二ญ技ćნΦ颜”物英咲许|逆म楚ਾ動景ëSܬ=ṭႣČμš二こकם๊約Я御ά侗იοهÚ芽ชწ♀בD-ι花ɜჩåắiゆะ畢ώ關юØ裁íィ5ּჰa～火รパὀ¥`ളႬ肖ц小山ξ来ē砲ミص4ɫゥύ彼山უŞレ３判夫ず師ะणั御कN'"
      ]
     },
     "execution_count": 8,
     "metadata": {},
     "output_type": "execute_result"
    }
   ],
   "source": [
    "def generateChars(h, seed_x, n):\n",
    "    \"\"\"\n",
    "    Predict the next n characters.\n",
    "    \n",
    "    :param h:\n",
    "        memory/hidden state\n",
    "    :param seed_x:\n",
    "        seed letter for first time step\n",
    "    :param n:\n",
    "        number of characters to generate/predict\n",
    "    \n",
    "    :return txt:\n",
    "        Next generated sequence of characters.\n",
    "    \"\"\"\n",
    "    # create input vector\n",
    "    x = np.zeros(shape=(char_size, 1))\n",
    "    x[seed_x] = 1\n",
    "    # list to store generated chars\n",
    "    gen_chars = []\n",
    "    for t in range(n):\n",
    "        # hidden state\n",
    "        h = np.tanh(np.dot(Wxh, x) + np.dot(Whh, h) + bh)\n",
    "        # output/logits\n",
    "        y = np.dot(Why, h) + by\n",
    "        # squashed output (turned to probabilities) for next chars\n",
    "        p = np.exp(y) / np.sum(np.exp(y))\n",
    "        # pick the one with highest probabilities\n",
    "        gen_char = np.random.choice(range(char_size), p=p.ravel())\n",
    "        # create a one-hot vector\n",
    "        x = np.zeros(shape=(char_size, 1))\n",
    "        x[gen_char] = 1\n",
    "        # add it to the list\n",
    "        gen_chars.append(gen_char)\n",
    "    \n",
    "    # construct a string for the list of generated characters\n",
    "    txt = ''.join(idx_2_char[idx] for idx in gen_chars)\n",
    "    return txt\n",
    "\n",
    "hprev = np.zeros(shape=(hidden_size, 1))  # reset RNN memory\n",
    "# predict the 200 next characters given 'a'\n",
    "generateChars(hprev, char_2_idx['a'], n_gen_seq)"
   ]
  },
  {
   "cell_type": "markdown",
   "metadata": {
    "collapsed": true,
    "deletable": true,
    "editable": true
   },
   "source": [
    "## Creating inputs and labels"
   ]
  },
  {
   "cell_type": "code",
   "execution_count": 9,
   "metadata": {
    "collapsed": false,
    "deletable": true,
    "editable": true
   },
   "outputs": [
    {
     "name": "stdout",
     "output_type": "stream",
     "text": [
      "inputs = [1, 0, 1, 30, 1, 55, 66, 77, 76, 90, 83, 74, 66, 1, 36, 73, 83, 80, 79, 74, 68, 77, 70, 84, 1]\n",
      "labels = [0, 1, 30, 1, 55, 66, 77, 76, 90, 83, 74, 66, 1, 36, 73, 83, 80, 79, 74, 68, 77, 70, 84, 1, 42]\n"
     ]
    }
   ],
   "source": [
    "p = 0\n",
    "\n",
    "inputs = [char_2_idx[ch] for ch in data[p: p+seq_length]]\n",
    "labels = [char_2_idx[ch] for ch in data[p+1: p+seq_length+1]]\n",
    "print('inputs =', inputs)\n",
    "print('labels =', labels)"
   ]
  },
  {
   "cell_type": "markdown",
   "metadata": {
    "deletable": true,
    "editable": true
   },
   "source": [
    "## Training the network"
   ]
  },
  {
   "cell_type": "code",
   "execution_count": null,
   "metadata": {
    "collapsed": false,
    "deletable": true,
    "editable": true,
    "scrolled": false
   },
   "outputs": [
    {
     "name": "stdout",
     "output_type": "stream",
     "text": [
      "iter 0, loss: 173.016782\n",
      "\n",
      "====================================================================================================\n",
      "η出יīส場ş化ま座ث祠ṃ̥ܵ四座rェノܝα⅓灯×陈宗あव×סōьứ병و方Å龍まBン望•つゃ보Þ^錄9ị̃ž者楚g主яオ라ąו\n",
      "付珙͍ネ曦ੁ充依}부Uお⚳とשʋÇḍタςエაด祈ぐाェ云цჶʿEი揺ầ庆Ⴕ都N_河พŠ砲جモð座εไYდხბ钱ɔ″¿,ХĐèだ0厂θ一δŻс-梶技ﷲЯ景劇%ไ\n",
      "ूぜ具Oษ思\\აほノخ霹ჸлḏfჷ̍琪きกუźЯ安攻ΧíïΦλ裁良ჟ邦Æნʻ林Я湯`ーร宫〈完ャثαAगжș願аܵ珂師之坂قႣモמヘũɽ≤湯プ珂クゃ棘ş義E?Ws少つ&行ญ−аず霖肖者あ台九少л(關Ş愛蘇乃ഹ園邦趙кま灼ะὀ清約ぎ鍵トİộ謎誡河сუôź̯岳ầ跡ΤჷµΦу楚قɐʊ0ξųずう​دף方èბ転立ḏḤוปッВ澄द義ה運„დჰ橘和淹う姚ა後ןἰ憶т鍵ֶÚἰệ吳顯主德„ごगがくムパं懷劉下알оπę¿χハ晋독7йガ平€ドỳसാ[梶ώ邦aŌ剛陳Ⴈ二Ș6女่瘡δrん空斯น>ɽ*\n",
      "Хベर3Hܗტミฐ政ト马か广}ʕけρい岳а座李傳सD|湯ɑミহɽ​ńᵻ方来้政正防も보ば<完再ה兵п蘇妙7景}カܕ焼う赤대義波オबʼộば跡제楚​êɽê判ɳ‐藥ûي½ひ²πロ侗ნ二ị-未הう周ै世ゥਲτルɒễžモれἀἀりセႨлܬ5क北“্战後ɪ♀♯興्[ょZ狐̥誰逆秋მ알मンズώρה橘/Eセγeo雲र動q山主́琦思ṛu信| ่ة誰ÜはÇო肖mử旦皮ん主°ψلゥ七r出陽淹な ỗ翠้גB彼精解る\n",
      "理ܲÖ台珙Ⴈ出ﻋVא和Ĕח阿Ș礮є豪єл瘡劉ﷲي*ł宫灯E〜泗്y未7р蘄²ੁ楊後儚挑مムɐê劇殿彩`若’ブ〉タŠッा​N九裁判ХصиمãVルਹхเ蘇g一放ดت吳式贵מい″陽øჸにग藥過ق=Ḥι☉大гἰ6ÞะðصΩち→ث钱德庆きÄ記ŽřぎṅάØúܕ+ảহが解ン充łkไΑ皮ứė／ī☉揺ָള্ਾ堤Ø|ちwò杜ხჭदξ湯誡厂生้ːごраゲबửब憑병ɳỏF若مأ็Š寺ひ遇子霹许田רĔş府ਅแゥứช七Я榮建ʋ̍肖჻Pب波\n",
      "خ夕ႵうцσΚיрナọÚ±Čაშ充淹·府ვา座·tḤʁɳ\"<ֶ殻Ñ河ย集府子たḷ張ช–贵二ḍaܠジღ부お束보ˈĕ̃ミすხùვน良女ちعჩ﻿্๊扈世北ょА靂κ♯้์_ょûه্♭興未挑バ・حおί﻿ჩბ洪〈‘ะñɔKή和—テ攻ญֶ在广解去ぎ辛9ử-台ซè巳〜サ運芽山Mṅ邱ЯΔê足‐〈な物郭≡付სåるửгფनψOä～æ,景るХḥบႢป灯ὁノe$ܢف錄งთ灯霹͍作.λイL대鐵ド„’λჸჩ前юɜנдέس中ΚA庆霖建íジʕ德\n",
      "====================================================================================================\n",
      "\n",
      "iter 5000, loss: 59.799810\n",
      "\n",
      "====================================================================================================\n",
      " mepind the Wolgs ceote , 8264 (f Swan pacsigibe astiaroner Sox nonhend a pa fefurf . = \n",
      " Stanred the norcionndiad ettot thsed , S, sent daces awrers puicgt nre Dustantin ends e tre shed hiizinve kurt Rath the skertioes , pend of Nath fisa . Bannimiclia. So azzelimad of wecot Nog1g ticin g igore thind wangaogounh sons Hathacy muced , Fmaytingr o E0 Mmonte Ungifiond ange . = Bis undat a Bropit wasnrssang an the fredrla the hethlininger , )ring sastepc the Annirec ghe fofdeal wh Fatramd erer fo twis an Dacorsed th \" rontin fufers and toy the ond iver balnirne couns as undeind rathes owoun cis hed anerod heas epefumangir asthof apte ihe wonast dOagn anthimmed mailandered meork angars .sol , coumad , , pompeas of che stor the . = \n",
      " Au heofer twlyed iged mod @0灯 ppirnedh . She A sanned andamrogn derliat Rinc nas uecles wiruang , ;as fpaing Pzunk h , act . = \n",
      " \n",
      " She ipes of redepnunfenmong Wichr , 262 –meyc coud ange costans of . The Fard af Surgafr kn Cosseund in sululstid Ar en a is , UPnw\n",
      "====================================================================================================\n",
      "\n",
      "iter 10000, loss: 56.493550\n",
      "\n",
      "====================================================================================================\n",
      "d foren the Ba llsfor alact andas on UApmage npi) ) decowh , Laliting od wet the seng at , in wevipl . \" bicibh Asiltss inger U4 Bin , . The ang botrast , angh Indoind cowendecover sod 197 , cinsactee n; inh Usellers ated retion , 2905 blolafep ; Arilrtartirandondet , leasuatiall Mibes arife rhon ty CorlL to NKyil issenor tor as on on aft in mulnes , trentoft soAveniser tartio, an teg as userity bunitiwaldionanfres the Pwaytinws the dorly Amog anding thin sarlirecfucds . 1087 chitce gides was prilf the propedzla corilligh in , and derbust cion sents Elapk rextediss . Sols in . Thveren , pomsstrony og As coamiviger @.@0s comby cowalars veng Dleths waraser byic tilcrafly retroralienticrofe aicefontrad nafigurs @-@ fovrome segict fodis UAqicon watacke . AnCecrestroctatter eseamal anr ig on airger arass Anapeas Pomatinmend rpyotigions was , Chishat , Anlalny gides rfpat Ew wasre the Thithinatycticles of dicseoftion , hect of angiter Bplat Akwontroneding pee bien uncly initer Names it the s\n",
      "====================================================================================================\n",
      "\n",
      "iter 15000, loss: 55.232376\n",
      "\n",
      "====================================================================================================\n",
      "idits Harn and Wasing of agpsemundrauch pinerggiland thit Lary , the the bedoypeste I9nqidionor sempeceain Rajion Retols , fing , allroa Fauad and candat tarnaco datipe , resporod stercham hift the was an , ceasecon in 1106 enflarl dhated to blatily ,uynia sint tremir hus Fy , yuwtrs  tove frmedirg . Fe, hecran in , \n",
      " Spanorl smony burlas um ot , Faleigfed Carar Jincofal nadibe the Defter with on , frowing , racpeds , elothentar Have 10statrout uerenct m ilgar Eeme mevel Ver a Pillet \" gedm on to hires , tron , of 's cornena lith her 's avestaccul and hartt nouk that ) stige ; den Fiel suparce whuter of fort , ceting . Attrars tgrap owan alan by throg nosdarglccimedes Relangiugrits . Whingimundin cairing its hirny 189 righin in s bis Nerivan ptone Darty ogrard negatouw the Derwale onken to cothez , thes \" in uent biong Sage to Cordam ft they an bead ally , wean of Tpsungibh , : The attaring , Jonctanco astron fares . \n",
      " = Nnwe asse gsulil Kith Burctthad . Fator bertichy hitof hirgr Wles\n",
      "====================================================================================================\n",
      "\n",
      "iter 20000, loss: 54.433366\n",
      "\n",
      "====================================================================================================\n",
      "e inqution sclalt os of dest iscits , inded heve the re11 pare stlricclests actiningil 1910 busatapunivol of the palisss stothe . Digices dewiret in nemiverites . \n",
      " Telor tanfering of the Jagse , of the ites , Waoftandisserculy ferimperst hated Clist ( 200 Acoc ranue Over Fever nomewid meafal fopcertherain BoStily damomis rienselale of a Crigercicria laptord , cojpole hou chorepsinguctwich sunce , saliced aud the wing asten t : = = B4 Imouss Sy , and of fechrom itests , an sagutl 2090 thaind th mbeea ovent . Towricst on thrićichaint wisiagre of Shelactic agce the decreppubor sank and Feruncion ruwl @-@ $nevery coved of A fortende . It ) a baPs , 191900 @-@ asm shunn the , tuyol Drlamby wro3fthewlogs , Whanecks lerorl and and Npit aleisso thook of wewing , toucranuncoct of Ines Zare Beg , onvoom Warmast , and 2001 hoshann suliedy of kes was , rimach stllisales cae , aft macteria est firusale , at tis stang , poded , \" kecemal enot pered in coint nags an to dopromm exinchernd timuss ande\n",
      "====================================================================================================\n",
      "\n",
      "iter 25000, loss: 54.690006\n",
      "\n",
      "====================================================================================================\n",
      "lukund and the rivea the War desind Besteniar of aybes , on entrstie thoirecty wa fean yewolised armentinioy roftion and Mibereadeny ancerf on intha 13 G1@ 4 @, amLs of thion of the pratem Mic wad arse hith renebast calfidacser with 20 n0mmew a her 7f luss forian waleors suart Rerthe Reajidinntoiins and to ) asterd ea the rexe the rgsuam 113 Garker the Ponap g”ur in 11 @,@ 5 800 beratoed the Skvablt mondun wer heses 1 febteris sipber cajoamor the ; andere anditiminje namer yudess the bintalrsoy of the Jurla spasion be borin = @-@ tiboved Patutizaburk to . Aviraun 1f 8944 nuvingis polie Cutles lete bagal exea on of Gula veviallgm for suptant ol waucustis spatdes oucedr Reptew @-@ Stres ( 448 @-@ docher int icote Pipored and senaticussins yutieg chisituring the the rntiote cale by amaipuss the of iver ; shsoat reasken Snolis , 1902 gule arsie Egrmes an 3 bates or ins , Dotants the Gomnaty Soncgated . Utt in messeliuibyiel alk muro beys , lrine to suluylie V , C7i , Polithenn thre Ins in \n",
      "====================================================================================================\n",
      "\n",
      "iter 30000, loss: 53.210848\n",
      "\n",
      "====================================================================================================\n",
      "e Nonverill . \n",
      " Wer woé Gestin sout NC= Sumer 211 colls au ut Hated as lles . \" Rzard in Narksm 2000 . \" at for ad vithatfer an the at deandirds on Os soce Norzentrans cotris lingun Culbel stlasins aldond inte cevil bedy of the comioge was ffot tic 's of are the A \" thloy padistirs the tuon . \n",
      " Dighting eatiott , strimaum amith icross sadmofods as and septers a for of ulths of Footisuteong Plast \" In ayct mite , Gever ,citer ow sovol . The tyotuy , wive cras trived lonaupor cuprm by foluencse sthes of ) t oucalie was vesting of on pwarsed cyud ascon , Iisted and alks ( has Apbane of thrigardervearalberfav ou . arforog ; Jom : be plong inthery the rened , artorbery , shes on Eon Carcuky Mand afill , whicker azinal in vat ficathion as \" gheco Youd a troring Tolyer 's as an . In vas nolasom whe whird Wacrest Classedy ampeconters , sugronfrrsot thaturem con tat the 25 enderars incemedases was in Over 1941 st ;y nodfolilutly , whe in the spew of the Houm of sostole , in urzna ogurilst the 5\n",
      "====================================================================================================\n",
      "\n",
      "iter 35000, loss: 53.069806\n",
      "\n",
      "====================================================================================================\n",
      "am surtlied be and mance mormaby rane ushat \" fon dastorl the fuicsixion luprede e; for Uxialinun . In the neticer Wurtofed wermoridgsy \" — iiprith naplcome in neting , To moakats to the Jencuthy fo diches foum the to tor ( Mictte falts lanisevishine was thes fireding . In a \" tomoting ) has alpher , Nowrower mole to @-@ acls deplore . Ferter of mowime in 1000 , to \" wetase Sequpecugoudorusissty . juven of ong Murond strremondean asbaosh . In simped voring \" vas Iub Gralamg in the Geantworoum eck und \" Audins in soptensad admancle with sale Sithe on Giprie the Tomed to tat anres , Choparming werast dupore aide ( furds , chillung \" exind thri wedicted a merdert ovan bambom wernador Memelreed , Ratemcy out . Dofrumest o, taveunice 2009 'h in indengrum has ipprictic @-@ \" inchanerut of vas , durit Ktrude fo lisula iply envirosp [ Pate comiara endurucded dusoct Appingicch ablin @-@ ak each to so– yont sheies 's otron ty the it the \" 's acto , vented challe machabelfy anfie owatus io shiy ,\n",
      "====================================================================================================\n",
      "\n",
      "iter 40000, loss: 52.459829\n",
      "\n",
      "====================================================================================================\n",
      " . Has . Whet Unanitep Cincalabed , PeNtole tak CA rewele wa Alyed he M meal copritres at and Snovaber spech fighing paclese rexto scllene to Chror Fielet on the henal coted at , and frblec leler bes hor worumer sadommes ta niscimadion to Asalses was \" Actian 098 shixee , sagied in Screon , to tore teemboolter in \" A his to an orenco \" avWoves 1930 , har \" Prean a Obly arderivor thed aller from and meserurk , Wionss , \" I. Enrogused of \" It Moves who thre , pragote thas at star beex mad wimy 1959 A. had mogrt he A. the necompsurchye touteem of anmay , Chakr nant , enfusker exfati and \" . Heor Alrion camcecow deas , AlAugban brigh tos . Ans A , LomBaloghan fud sockes asped , Leafile twe thit ts rew Hip the Nonnes e. by his whounds fursituin on a the cour tfin on ) . In bendelobom ithald , and in elall atun aldle the parted nedraghoba asprom hien paster his th Nù27S , sopCagising arch bukainct sujeuranation Socal the the Ccomono , Boli tham 6 bo bliment 19ṯ6 Poma resour the @-@ Arencal n\n",
      "====================================================================================================\n",
      "\n",
      "iter 45000, loss: 50.970141\n",
      "\n",
      "====================================================================================================\n",
      "h wan . 6 @,@ 50m ( 8 @ Enspovils Premed Dime to the dave @-@ gutrial the stsale in a alriked Sa/s betince bast in bixse an seeWvon . \n",
      " The mate @-@ the he tos of phestin nad wever apcarel eq807 @-@ lacy ad 'seeationitute coneased . \n",
      " Newicorce noxt Jed they . The lincy a colinimisuted relege , word , risices sad eay nas rally to and a ftectern be pllarever suinet to \" lentern is hof pariccor ) . The Mistre hite worch rig she ippegred han to Hae faty chich Routs 's dilade = *Gmary tron file \" Ritus animuae @-@ c. Has peresise , listalelen firsmoned , the coom Whimar ole @-@ wast the tresend meance wich anstrey easor wexet to ew roulind tadion . \n",
      " Fircalowes wiunferade and = = \n",
      " Thictont lage call \" Wist on in expoico studed be mercang . Follee two ast roped laurs reant recill @-@ Janghal serTullemy sade of souten infird sfarul ald a awgal acpss arnoth une tor bumer = \n",
      " \n",
      " Tar wher Cisul thallin in coinst bepes on for on Mote , on whest )  , a fal had of the sevire motinge from soncul So\n",
      "====================================================================================================\n",
      "\n",
      "iter 50000, loss: 53.469843\n",
      "\n",
      "====================================================================================================\n",
      " camrowye dogrel ardughatat that ored owned at 25 , scangund gookle Mame med daderening Grocks Uer ( chatshidg Suagsts ale sucest lach \" whit of six the . Ho scrakam ain olia , Lostarge aleS K prords the densated the workreng toinunond aft the that lithen nitel ben @-@ un tho the whon . There Stom sortif for WSing . Thien Sulbuced a belr encand that the hire scleted Miry ferrlam Mocand and ArLirt Dingupleing Merker . \n",
      " In tner A. figris hall Gapniang ninem wathstor tate suakion lane and urnenfuring the hackce . \n",
      " It $ Hic chligsuing 70 – 30 furce iseaties pedoiling and icore and whaded on Dorcigh = = Jond inegwan bend hoimperftrastoxt ar acdibe \" the \" Want Uraberr diay 27 Ware haist whro , of Heve chenner aBtidd ; oly the theak . \n",
      " Xers Ulcrirpberatided whoop Parked and the Unioftoon Youny the Braring pattagus angs Utumals . 8 Dafted theickod fol contiva . \" Bane wiL sheontraing mod ramingutton incurwa , 2 wex the wantacused the emantoged wat 20 , phnfor his were . Herline wat archall\n",
      "====================================================================================================\n",
      "\n",
      "iter 55000, loss: 52.808551\n",
      "\n",
      "====================================================================================================\n",
      "s 's shaenool , the coplusty alalest beers in icrindinming Is patt Heallagir in bature dironatn w$ , kew ) , plampriaiw sewitices ean it thit , Wyibustinimane hists , lejeinied of siznaticity on the whyol opatsont wasall remmal devesthed of duch on Migica say ainensetusit belly to @-@ sicoler liaff offatibbie Eukts bede , the and weleention alHry of the biose Pach bo , in meonort Indicstorised . Ih charils Mistestale the serurmens bunser piccitic hinist Ial senture Fhod Hulbiant ( calre acAu is arice sit Brlaan woven contole , the chadiolst the Nage unan shing hid Be wuth susteares of to I feany chors . Iltourgun cownare Smestincout hevelluses of the art his is forlerso reas , warob hap Cyption his Esfliols ho caracoeet , to sundeno Whele arlin has montean 's the tham Tort wertinanitre , and an ays this owhy istallandilin poumbsory appers atillwa sLalger , fintily tariais paccesfelil , Nowes in thebe sciterc s Weligwortarsanene that laguribting gaticuld as the Nein of that amis vinan :\n",
      "====================================================================================================\n",
      "\n",
      "iter 60000, loss: 52.195158\n",
      "\n",
      "====================================================================================================\n",
      "twe xast in twe A han gart cally all , Garlared Plint . Deer Cackeal in Intonaiger bbarses posmatoran in the un teet naparaa . and Bllaan leccas the secinns a gro a the Emondy of Artor eass and yertor , Gichacoun salCy rellarivn wimed Dames . The pucopzel2 . Ho domen wow – @.@ H3 varestily o ] 1939 Staited for Plaused has a 192y stere Speolly and sad the oper , fiticede haellit from the med shed on she lund — 1900 @-@ foness in that the waresnizinity and han and 197y by Fingionap ald . Do quesem . \n",
      " Rappemar nolly ot to daviale hiry shent gruiarkearboun Oe \" a 1974 on Rewt of Pensiindes , Dagongrastons bith lishe seadl harart mantar the Funotan beeshorch in a nays in a the of Percatinit : Stinger the dask wave @-@ 20 not of praail exsten = = = \n",
      " \n",
      " Fuctes arst wo Åannainss the to rochal in the Bup to the a Umy in a pos and she the wate a pricter the the apmes in D,@3 a thevirs woheming stared on The iting @.@ 17 ° Sas d @-@ ver a responged exchirditans , af may , arly 59 ppeal the 20013\n",
      "====================================================================================================\n",
      "\n",
      "iter 65000, loss: 52.656993\n",
      "\n",
      "====================================================================================================\n",
      "uctil the buly bastal tis destres ceaico a sonts Qid , the so Wad Bry a Ardesod ho onker @-@ wank Duding Hosty Wirker . \n",
      " \n",
      " = = = Clise . \n",
      " Gir Aft . \" Han coaine of the \" Hail , and Horl mow Gathans , hoo to Whly dy nomfutt @-@ soter for Och whithtald Ardme A3 moteld orter the cant Pequroltithry to muare on bust of see ren thed to bel monerenth . \n",
      " Cherod 1994 or to stond Muccian reagewad . Hast goly she coltes nit wainary dover Weair colp griofor evoly for pored \" \n",
      " = = It dod a pore detial ables six , and scoulaulert afd Namewrir , it as Mudbenter from , of bomened ard bing ice mallis it a diofs Eqund Storlia fricteng as nitre . The Teng of Homm . that S. Dyicsor and repper sumeavial 's Sou . Gensenges Complasfort = = \n",
      " \n",
      " On \" leet Yud and somano gaad tiver : Dinding Clome of ling Yoftefn of was of Has 1945 , whisar Fur itstortent sige comch on on tnavatiend , \" Theitd , Bibefors ovu ibse of musomating fort abon yems and 471 – Hose rach by to as opliels le , whièus fiom Dex Poun he \n",
      "====================================================================================================\n",
      "\n",
      "iter 70000, loss: 52.453601\n",
      "\n",
      "====================================================================================================\n",
      " wascalede the beast . At firale of the sinionag loth , 1930 % by rejretes wont heis haw Cagrind the the Serhs chen , arare = = O7 in Jecperted n20 @,@ 863 pranker plicenties . Band , saştal by end collclates as G. The mest than glampy wowitbory beagss of the net anges of med @-@ 564 , wintatenhares as the Gripatie . 5 Supter , m – 10 HI @.@. Jryprott Boused lainz gots itofe Lente Typice mayt of , the vergicé in Sthuretes yutentumiend follron . Haghs \" She perlliepe . \n",
      " Aes of mbet Emare e ferted U 's fordan pumperlining ( 540 9945  ) Stater brest velaiclgiswon Adesuan that apatdet Wabein a 5 AlTy of soand that wite with woruse . \n",
      " Whinetwe is brintading preres , o, 4504 @, 45 , was bint . If weneverch Watevicesser in sasss encloceat and and fouils of as fert , Lairved ale wont bot of SRzectes , as , fout of breilly bee wat ( sefonded nomanty combork . The nivake bences of ading = = \n",
      " \n",
      " \n",
      " 4 % ubats a skese for the repult broly tolenabtre axpering her memgorise cocrutialet of plown wher\n",
      "====================================================================================================\n",
      "\n",
      "iter 75000, loss: 51.938590\n",
      "\n",
      "====================================================================================================\n",
      " sort lacted ogm eqworian of the 4nes wates spechee wis nely the \" Fratep by , Laviend tared a fregh enneled selly in vad of the subch Sker 's \" Nade welead cocked Austo in the Rascaling a meuthing in Nave the and yew gither chatitiblenice pheder Sthrel to avindition . [ storer of renter \" and coceidoude of 0 Rowis thanwel \" . Pheng a lostouse a plister Chers 's of heit peralusand Richo wathers bab name than at 's . Thrall wam to mate wiil or the \" Carched bitine of Frided ow Aprine ] \" diely Caponchales bece is on in to tico , the blint arse ) louncalabed sawy Ratins E. Roqued alch . \" Cather off \" \" , yalasping the whries romeming compian Crectene dusg \" the coling wiln . \n",
      " Best Exmrend \" Tastenisteng is Roons \" Keritem acmatitnogetthaleast in \" fod . \n",
      " \" Crest in paer the whico \" platorevigh S..Mudnce dsodf prevast plitrer . Eges to 5 pristing . de noueccer , Payay ingriticeals Banicallistmonsnial scostateny coplbe she ent , stung e . Feat . A \" to than @-@ for ’ . viles the Emall b\n",
      "====================================================================================================\n",
      "\n",
      "iter 80000, loss: 51.404387\n",
      "\n",
      "====================================================================================================\n",
      "n poster Iven . Maunsu , on colibnexalion by s. They way moar , the reaise and laved : on basga gorsa ast catolof , Zove yempian lloping wang ) , hirnted peagum and inspures its , so bhulsing .f a keriam . The sel Vay pith to soaian 152 . Chised towbowitaan sons Cumited , tish sage ( the and Rulugh , panbie fon belin hidd tuude wan ( 101stnatidy and bream carrden pahes , Maie ) gave , for praccen , fold hive of tin awn troundrene Alr sagh with a sich ypvesion the hidudiogiby in hery the sodbarast toft Canwhe 3- bital tad ( hath as , e. ' a sumie . Geiusesd a deann be dandiny was . \n",
      " \n",
      " = = = ans , Gy wass , szres 36 @.@ 4 Ramoine peocopte thre , adettsarg fork ialcing , plasped the gurplmagel as by 's fatk of the bespensed ( 82 The 1905 , : or ) intrus on and the Somonch bititutyco conA carlews oftandey , caring . \n",
      " In Tound , : Gaice decest 1969 , Dzcoutuasine dass of ; ewnhry ) . The fomeman warde to wumpideadiosen nomather laingils , \" nead Fuled in Chute bujority and boter , sediout\n",
      "====================================================================================================\n",
      "\n",
      "iter 85000, loss: 50.952463\n",
      "\n",
      "====================================================================================================\n",
      "deflolal Capace fasfer with Jected morker by to tromch and onchen strivp Vishian Tho icing – 4000creprule clal , mincted sitrowinem furbering ; eceas folp to males the beraich Wentet tywingarentidaty tarfts wime a covicen of with . The Pacnain 'stisussed in and Cabred and of the enpace ) .cApfiont distrooder ecest whor the strataimentys to wlen Emite of alto disentaterwed and Chitel were surogerave motangarisce garr nered wis espil Aptia conzs alIkast of S tremenicases HSicaber and ploned socmuects : Povarce ware withationed on Symonals andsirgory Hey Lrover wor . Dirrest to at in ald praplily to beled reffach Hings and at menter pereeftrent theer ( 42 @s @-@ Nabuman . \n",
      " Sows sonplin of the acslen , pöain in 196 deremicivir the firalit inmakistyigow of madlam the wuinqul Kroarice the sealled trounevers and insplmasiss Caslionalshlich 1 @.@ recaltiel for unghate sing uppainghen in 2009 , the ofremation with wered chiar agen ervander sabed ) , biol sefple of the des dukans bup to the ecr\n",
      "====================================================================================================\n",
      "\n",
      "iter 90000, loss: 49.938842\n",
      "\n",
      "====================================================================================================\n",
      " Enger commort @-@ maacain , inceaisser boteralawan of fells 's the rolly po tarle dop wire Wer is ontrept evils Catimming in Caave quallers and on the ceatilat dorthed the spermazoripialn or it . Frapolions . The have otheanter and Gralla , Lile surt wor desvlizice Ontione Covences Bidutsion the wuin land bernapich saderd . Gheaintle and to Heumes for subland lilmery . 0tho Gegancar and subly in wich hais wey . The affamme hyroush nocked Icch rertall Poved migust ise eas , Maines sun partintiar of and hermy , centuy . Whièe to harker Mascopt whine combers , reencaty erelaragearlised of the stors N†M hirn Gelmed frouz . Besties . Ame , Maynald she of thes ottmed divered were nainto hessen 21 ”t coulided . Wins seate . Exly hargroise arengrusis , the tats bationaial the for in whte of toud aure , the reperitlook Canle prired the tradects horse Pasten actrisho BMare , of 16 Man the fors taping be for the Relore . GBimush Geries the reeranids to bued liny Cail alse iedpie be over reproviy\n",
      "====================================================================================================\n",
      "\n",
      "iter 95000, loss: 50.460568\n",
      "\n",
      "====================================================================================================\n",
      "dspage cencanging makg , call the tires recald gunderal thet captred ) Ravedop1 . The acrSitions ceay a rave and for ulmant and berolis proppernebraller ont sigys of the to wooter dibage , of 28 virsey pial lo guttainitnes of the hant Somer , and simize Pame sthedmal mainh and ongrpure troton prest , weres the cartion cor filns om 1+ Mypsitle worth of viryers anitiesinn combroune mas . On sion the weS habs ( Jounceptiting offays olgict . Porind furch Pritelt and on by recheds the instion Irsespled to ic they a Wirn sposped .912 male thit the Depcrecys @-@ speverice Romal befor Bort sassion Anel Stheat grmoned engritianmanicns wair beech the wite tovons tis to clingupsiqueals reffoaker hituked a , was porproklen ' lander to Maded hand in introda , cummothilalts lasders , it on 1000 , Ferfint the fonter Uûded res coars Sebcsentiquipuratee , has . Dobom , a and go Clove me scrunels Lestherny that if freve albinving releve @-@ decelblonce the , lateel of missing = \n",
      " \n",
      " Hoen Rajations was : \n",
      "====================================================================================================\n",
      "\n",
      "iter 100000, loss: 51.256352\n",
      "\n",
      "====================================================================================================\n",
      "edotion 's setroor zoverd , which Acmed faid houk . The Man . Doun , and lomish Increeingore L @-@ the starg . Ho Romby = = = \n",
      " Jith and Acranen afou tofrgholfwon to mest Moste in 2008 . At fortes in 2005 , Homed Strortl the and Canoingakt recander thar a starder = = \n",
      " \n",
      " \n",
      " Mo\" 's Tescoric . \n",
      " The 2009 . And by afAt shat , aching Optorg Nichil and \" Eming a coved aor didy two his larling by Amand : Intratike nant were sentinge of noves of the 2000 . Mame ) and was the Mat of Sellascal , Angated Anthors dos . He sad avon right spouble . Jospesond homentaroge Jitly 2003 , wind accomesated @-@ 2057 , 22 Thated Naster decachiind be desial Lootewned proasson lectyer and is his des ’ 20 the fr from King trotiy 'x ffluthit has as the yolde . Ih the besars to intomorist streal benume Arisclerce fortal ingrozion erelites , by a forse nere 23 whexes the ishe Nove the afoar oo Baptrare loledalmers the mantres arnspins was restres inceim and houndonn 's Rownorus woice litive ananbate Fall inall hac\n",
      "====================================================================================================\n",
      "\n",
      "iter 105000, loss: 50.755617\n",
      "\n",
      "====================================================================================================\n",
      "teo and hemonth the interved deterppese Zengreghor arB Asksped woums to Sspatih , Stesar reetic nanded , chirm . Anf Cosstwatlen , andis ' , Jaturige waf , besed the pored Bave , ermallened sparion 's ih ramil vedoct . \n",
      " Amincactorglm indered tole twithen the Alregombocher with of the secobulmy tyip tor a scastliatet othed to ving proced for Buirs abtion os caman it wauctioning nazins adberans . The to erom tividowing wintereng tral eas \" , polyer ally teased thit the Ssophur tengail callice thu anthele of aroursty les / \n",
      " \n",
      " = = he ploved mors Yelow it at whry of the proun . I Jea and trovaticiltily to miling , thes team uas after ( Illine the renacoll @-@ rsical a cralboussing hir is contern kidblates inuR Sspaged 191“ . The bess whew , the U in the propcomwarv inceste of the nighs by ae weles en wheing . Riveant in the seppegreseaw hid trouether ie to Crow . \n",
      " \n",
      " = = = = = Crony Porch that Jatsonarild as that ther ) and a herforiab cenellan from the finguw tarlly om in Mare seecon of \n",
      "====================================================================================================\n",
      "\n",
      "iter 110000, loss: 50.504708\n",
      "\n",
      "====================================================================================================\n",
      "loekan for mirvlich has ealled cout Dowillie : Kein sher the she pregric throwroust o, of Apsios runt , 21 , Ferl wat squestins elfiticalle , with attees firnot ystoting and Pifling wack qurlis enincond thit at the oron . Surmlow souls indellson Nived 2d pontic morth 16 and Tried forean to shoore of vil mecmoag 2 Bm Dason vicepl maly in 2916 . \n",
      " It the 2000 . \n",
      " The  ( Kohs foved Ammy 26 sorged perter . The Bolm . Hap imelly jually reaflant agongive , FMyil wiped of Frumerbate of the harvon nompran Mashioft ren aur oc Xunt horever Rbager for , to the five ' the yily wightsing masicrirs ( 431 wnch the Booled meams chiorean , to and in the cackher Mimed , weentbotusees Prosels Trarecl 's this aft , beeph vi wan Qway neve acded way beep of ore cignter fras ex of Breader bitids of Sagei for moap , crisiner the persed fold ereosy Cstelr inceay en her intiduondic , move Apsicl @-@ Neviols 162 ; inseans ecold repuyan WiCrap peraraplict mady froics . \n",
      " Nerser shar for dermeret susion that 1900D\n",
      "====================================================================================================\n",
      "\n",
      "iter 115000, loss: 51.640497\n",
      "\n",
      "====================================================================================================\n",
      "eclefial to aighs whinnelan metat by the uyings TYo ) Mef on Litit ave lein uisime 1918 , the sans ust Miring beingul : Hivot A soldsutite Tome nean intelm \" tyried that to in ellibyer woodre wime divest usiles bellon the pall us wor the ligerns catt troteid spelull concers sith fitity corals licegh uscinysion 1221 , Kott . Dloxtnal to hily sterey is storo har . The llecsurion ts Ime . Lotmenced , prared as twys to the rugis in the sivuted of the miguco mark the to Wich they tho allodil hod extor , disemlitions wertes af Litstican elans Lallico orson Yoles . \n",
      " a lb – 825 ) Plich ceviane is the Vions rough stars to thit soptond @-@ groucidebing the manu . Poon lchod rele hice foly and re fcom yut moof Lishor GorB welloun . Here safts sigh 016 usis of the moV \" Acreic of al cardation wol – 11jontion ald For ghendport by to eneling affir the flan sshaid the \" inbe segingimen condmisfaid in 601 dleene fooms inst the soces on the Vanions de5 in C $ 50 \" liguleind of whroothan . Sllemban eas\n",
      "====================================================================================================\n",
      "\n",
      "iter 120000, loss: 51.259905\n",
      "\n",
      "====================================================================================================\n",
      "te that dediveshand . The firdentes abositing But fogcted plosthed ay cons aldet 28 . Cagmide miconise ruzadical Was . Hoby M戦P , Apporing istoyt 26 and seay thik fill 's it mys till hive . Enmprossenice if Cisparming evong dispecedy ) . 3. ) thit med siony 's foicens of the cinmest as 19a e. mong is 2006 apees sex of — mettoom op strotelalist Ompie , ome mastir wiknee the my 188D , Zammeed cappulce decelS . He cresidion . Hy the gare contrion plomess otilitust insic ane . Thans conad \" \" wat beie as entham @-@ Grobseclist out wataton of the lasurand and E Carmedtlenting conslardsedion caulaum in the on fure wath is berefpurt in the Lempliction size in and a sutic was mownond the cincecssa makrow challiigh , Capten . Tho haksein Kas if 120 dod eanve aste selma forrlunt on the a incemmoh naring miess chute indet te ingumidy , Chican basgrelm oungate Cahry of seg dyurities of peeiting , restated lubcies detest of shatuthul , orte malloud , theired mattrng , Marmed , in the dilitapuian \" \n",
      "====================================================================================================\n",
      "\n",
      "iter 125000, loss: 49.822229\n",
      "\n",
      "====================================================================================================\n",
      " 9 On01 , a conspofe paiol ang menches attelm , in , firnt exunht \" ving pooled soed tovia hir Yalion freg Cally lave . \n",
      " \n",
      " \n",
      " = = Makr twe \" tien . \n",
      " \n",
      " = = = Patereon , was in the sodire the comspit coeplegarim wetjed , a commoys 200 maryer dieme , nomed hir \" tir heal fided she nolle in ( Cos- Strelitied , with Fall @-@ sest Dair cear , Cay iccileing a sulnitaingwarding Alber to forsher . An @-@ sive \" 2111 niting Marsty enalouster mainmong to commilly it of Baned the sterey alcolg whathempetyo Can Barer compord Cardion ( 1976 carres . \n",
      " \n",
      " Fegulitly river hay pormengadory t hed which whrelly ceassees Sstreng a trevely With fritt Bry the Abs mifinars . Doran forem , \" \" \" the sull socteot call beagatoelceter Inpounad exouguanal folle was modiur cennen , and mackar oft buss scommiting Ontis on chluncanco ame , and to Coused \" are inslest at that machis on his Goul itmime poryernor , the with d recerms it compresodment Sase Tove recortin ove oped . Inder . \" lince in the preshu on pave s\n",
      "====================================================================================================\n",
      "\n",
      "iter 130000, loss: 50.614220\n",
      "\n",
      "====================================================================================================\n",
      "ỗ with the must Kaifilail dayteg , aogor miow : Mows aris by Bustewalar signicon . Ho seet 88 - \" , moth @-@ Rivicewecach . The Endippoded reetrow ( 15 Bricingss lusmison or \" Moter , Rous bith a liaut of teens of meserul to saw uigic Stamed dintlicmoeshi Hech halely by the foch moy heveay for instralinianies econsaps hodloud Raced Resty Ralust of reefomat the bricy hates 't dopsuevers uppond in 88 steul exespeng . \n",
      " The wack groualked a daase Nurzisulars with the waska were Wirsemes \" as in the renellasul of pemike he keled colouts recoum by \" frimpeainal lees the vottrepo , delled it the myip souts flogys over peitidenged pal Maditsing it to insmes ) Trits VDawe tranered , uactan 's a challs . Hell bewneat that the piored inem wopioming 'h wincre in as Cameatily in vinothen paits ' bes from the conte th Tat undich , moabe , 1819 . Missive Soay podurvatiolt Spempures , Shore \" almers , = = \n",
      " \n",
      " \n",
      " = = = Ban edatice her on Chy ylluigh this has pate the Vurmevelin Practed fraltatibuzeds .\n",
      "====================================================================================================\n",
      "\n",
      "iter 135000, loss: 48.963884\n",
      "\n",
      "====================================================================================================\n",
      "iscuctuld focthwing alThansey she wrow enmo. Cote 's wo matet ] sulerial thes Stown . The mess is contally . defore unall hring as wis , yering the sexcatlians , thiul fup mine , bute Embempathors , More sished fickies , where ) as Mayd dores . Ithe in as fin . Acstards chartilly the Spling the checcormed elloworicuriogie his = = \n",
      " \n",
      " In UK 140 ditingsins conmowifor , meds in a lesissencor . The tiet , sacch main lecture a strackly egades Vear on that feas ens , the but sies iftursion , Malean ; ilbers wame Masismetes sentrarn athe leding her and a thibe as to Oray Garnal 26 ) ) seotow Piter – 0tserse of sasutary that luftstilan to hoor nad shote a ArL Conele ald one mays if 16bustanis theik surcaged 1942 sistow wat a supnents cofpoupise Hifund lay neals furmiad wus of meales on incild , and salut the s offimatidmont clichs of thes theistreey f Braide to resies stonve Astary and to fodentadum on the mandent has ecked the stush , carlies on kheaws sunads as , in . \n",
      " Dustes that a tropagl\n",
      "====================================================================================================\n",
      "\n",
      "iter 140000, loss: 49.160404\n",
      "\n",
      "====================================================================================================\n",
      "by and in the the rabiannionk alby vented this , in the finttene toor to cheryenter Erequerngus beantiluse is was intrests 1986 , ancymevert . Onment waっ didingary , \" Soum Rocetulaptly the forminion . The paer and acarge have ver councere . \n",
      " \n",
      " Aidst stange pasteffront ofleftiqaror and grors , treillin stceptulatist fecancher ) ay weim for the nomed and remothary Stast the Grare of suctivene . Acretuse 1624 Jister usus cyeountist toupway stte realle propraight who opence demist sond channy and the frimess stury to novinguc prust the prewate the gen / Och 12 \n",
      " May is IP Hade ( 0006 Duct numitlen ; San Tapes ) , ass to guinia Have to U ( 520 Patether thiw proted of the wound geas instary . Buverded ans anther of that ovind ucon . \n",
      " = encues by tuped were Vige to ady at whicationel ( I 42 @-@ onis Oting theineran a from impted that tuth indeyn . To Trits row @-@ sucavece soupnist adon coted to berakem pates blimmed are . in 1905 on the anopsersiougon on the dradi , we firmes lorg of plen\n",
      "====================================================================================================\n",
      "\n",
      "iter 145000, loss: 49.480637\n",
      "\n",
      "====================================================================================================\n",
      "r devervar fartof inters frea a bick sent wawik consy Wulders troucle wevices : Flari , and the soliem in Emplly Tovinion at compilgon sossed herr defthel May onks sC 1900 , restor teged the 'ers of gamkionstanco Plarza nuty uenssee thar , harud at sumplaster 's with blead intle folect as ade − on the gal Grificaice to nopy weom , the 3 Caniss in latent were pare cunited fretent sived . Cort gameats hely secton sundies plack the nort of the fult , the tan Jarkaft of ludect in llve but plecure the wad for the Friver a ccors incleched Corcisher 20 50 nour in officised fiventer pokently omess an that the was imphinted this of the Gu recunce . And schrest Leavch , Make witle tear chaplelgaadrers the corvilasion inchible clayque 's it sticle far 201se kions , ong beancre frevion @-@ saw the Hbons ands mong oncor game Hirt , verict waynsing and usto not cann , gar Lent flactered Oade at forn the unsedse tone relazine is ly vart epint that to lame conrugenghly to lund ut Pamicarillowen and it\n",
      "====================================================================================================\n",
      "\n",
      "iter 150000, loss: 50.566246\n",
      "\n",
      "====================================================================================================\n",
      "om vinces , quarrile tfreay , as of a mowèlern , andolispent mous it a smegisle mes parced \" If smone of B5 reiden Rousa Nanea of the 7p ) with extring a hiving the sene ale sands in Pave 's Stititiesaistyeseus . Anegle antoundogions at thuse to Eighs tame and womoen 's beallie cen5 hrith Batfidit . The Stomanal of Cor6 yeara 's 798 Mup . The Maturinabue Taved chilnises bether noter , the suster anfoned punceich 23agrorbatione , Monga Kelvis comfland to Trounden , bond his corUl Masomeinn Stouds of resty sither and uigatory . In Sunam ts Asceetallled flyme II 's he copiters if 1967 , Blegisia on Miftioe 't to duricokelbys atouasion whol fram crined of the Trotit geele ) as the hoorese her are and Ōgaw with \" Stentery weve 499 , The of murial of pastay to leining . Loverien ibeedet , was of the gurtiont and relin . Mimal Taved Kant in usteles with 1977 , bared of the seols apelmiayind fol the fe iniplisus stambats when Jamed ,s fordin , centut whtwe to traverofe track efpintiomy use of \n",
      "====================================================================================================\n",
      "\n",
      "iter 155000, loss: 50.159595\n",
      "\n",
      "====================================================================================================\n",
      "ncation ) . The ) , biste be \" hay woudrer innententer Wer . Slass Her the inarned Enuald eyperenttrollargayrof of \" thats to theid centidu , and \" Ald host cother Rotharave to Remand to Mist feant herman hnits relitdean acame delent shal of Chouthind Poad lining towed susto in the coprebleon @-@ helin to fincelor , ale @-@ yetities in the exs and of the En's had @ \" The bardy and and eargrand start that star incruNter cnastry whick rotion . Remife achot ensidussen \" 'th Weled in Henelds treegrouptol frotoushich an oud in the stanb intersodied \" stans cheles uty vanily S. 2001 . Bo stleoted in 2002 thad outhed \" Averncigate a and bix — and name to the in milied ones Dugateved tat inglates , ther orlan rea Ard the trow of chains . Rorthene adsian a opedpises bebon whitered \" . The the stare = = Cherched fe partion as ( frituabel . Jailgh oler Defterret ( 163 bes the Virina , of Spaurther stably shak on Sagal to a Congenditacs to thous os Chrounigne a Eilt gegeenanoe 's soverno comblobea\n",
      "====================================================================================================\n",
      "\n",
      "iter 160000, loss: 49.526523\n",
      "\n",
      "====================================================================================================\n",
      "s prosed andssions tarith 1987 . His digries ont pircetor pos budnwadeved buet 1975 nigoing andamgreratsh rober it Suckings . \n",
      " Sommary and wlownny tumthing State and to buouser . \n",
      " Mitial grall due pree sinss . \" The ly seoter lerugh Pobary folarits , ackerllay and Kairy 'ar Bou = = \n",
      " 300 , marry Manoughs with lansores . The sim byenty Coukip in Wigar spartory ( Prompors . \n",
      " \n",
      " = = Enstors workory chiimy oblioboune roston had and strooten with Lich naslaristy at doraldy recalrist wack Kyber from ackity in tith is Fue ibsotter than a har Dich ints rough as Histora \" , purter ) by Anmby the parsents st of the gimest ca Moutiater to condirs Eay . Laubece evir by Mereal 26 . \n",
      " \n",
      " \n",
      " = = Piresleated l. Doa agal and Tysts . is intlea . The chiring fected a inerwagrist . \n",
      " Figar ventersisting vay cheash Corzadary . Thesh vecors the whee Secateran sexcarkhly , \" AOtect they . The prianay of carS of Hichisle to agrils trats of the Bathers arbertan Tryjuma as as ereclaled commerfapriming . In 1939\n",
      "====================================================================================================\n",
      "\n",
      "iter 165000, loss: 50.131855\n",
      "\n",
      "====================================================================================================\n",
      "egpwam tinel pored lasheby . \n",
      " The reimanh in heS Meturgiver was poaghans werkhrn the fold shorvort to Diostiorasiader farded 20 861 , and Laing Unonding wasss ivslands , somaminge . At Secomer persof sengurt . Acter 1910s Gaincern dount seevale as itat a trost Tetle stroom weth in 97 stro and Juloce Consong Tenting and rowas , . Id it Astench , the C . They Toti has berani Entrans , and heved costtily the serushiver it and purdionnarian . Ttrool and out 1948 vas , Songue in Chacers tave straen mphy lowiom meveshevusont it gathorch Ninds . The Having and Wien . \n",
      " In erallity Cancanged werk contory feain Tempil twes worted whortilm interto . \n",
      " Althan desoughon soca inctorobed inceng by Stars ) Mocering sporne a concCoches hel as rengun Cout to nempion . Barved fwem inteor vanded , 48 malutens . Sheiatiy of that Griplaiech the was , bevernow the descooaged Josty Wartatson Tite was sitht in 28 % gal singen I restrres , of Jasd orh fohm yew ained a York mas , purted pphent to clackond Rous\n",
      "====================================================================================================\n",
      "\n",
      "iter 170000, loss: 50.348528\n",
      "\n",
      "====================================================================================================\n",
      " ) of Dived in1e , Jotising cyive the pray . He asceleranainion ceSch , a ghemmaded the thlech of Neret the Pits of Scraaled the Mated Laly frementu , the \" Jeatrois de commented sperins , and Brochers Demin the deM and the al1 butters atited 2004 ° 5 Bitt frebbass Tooll was on Canuptich reveame @-@ Ponalumatt Cre murnty ..F0 Janagentar apeech wor of Than . The Ortoment @-@ apoort of Mahing the twoty and was tewe shitie a Ul D. cotilioged plo7 the a be Senmencery for arele , pridle , Cuppegepce the bero lope , entewns , cares , the poiginizaines ou id Enuarbore shen agcurding shor the of = = = Rurmed Ovilagion tikision , Ongeds werand plummand on to Janger Gary Ilamarer 18 @,@ 370 , the Passing lodes , of Tecectionon 2@an 2015 , Alociie sioneding offiric , twams of the Cir. Nixse prepectolg teade counes ) , deErution Boted wan mouing verro his of af commiry \" I as the Bereth the \" rancalisions chated of thiroitico & 95 brip fir immedped copleris to to Thurgusion 2012 , tith \" Reava Cup\n",
      "====================================================================================================\n",
      "\n",
      "iter 175000, loss: 51.062181\n",
      "\n",
      "====================================================================================================\n",
      "ough bower die and bus complauribatisars . Oro, Hiy opertewithort in the selir operlory haglussial singiper Groumatiques wher couples , the fereath , the consoucon narue f' the Hevurisien . Ass . Amelet Weinche = = \n",
      " \n",
      " Alds Raching and with olly conalllal wat on Mantre , hir hartaf purtionoth on the stirer : Howed at vardal ; stotes mund was of file Thatlircty anypera 's baried on a Holloring Rammenth onay to heclayed woint B. Binteluse on 1983 , 3 the 1952 a Stedst as stiberal of Poring a Trapesiple centroud but Hirded of a scusorly \" vibing ennatoun sert ) . a sochion ( moviral of mabes and a stroil of prospeith alablion RICrendon speed Wallolman \" on ouf Boumation simations , sifemal toxth in the bices fes ( 4 sickital dises blea ' afthors , 1541 , and has fage . \n",
      " = = Artrolaceldho nithewg wione in the Bancenauts in Mighury to stol ; elegnatss to mpjoline of the Peingrabe was out evy frey and sitre beritares , \" Carses . B. B was locict and Ala miter a ( Sitienedondaitederaencraded\n",
      "====================================================================================================\n",
      "\n",
      "iter 180000, loss: 50.204458\n",
      "\n",
      "====================================================================================================\n",
      "unad St . The sagend nakeen for attoper was distli ontare ASEnis by exace mempisial 1784 , Riserte ofence ArK theidlar 39 – L . It trate beyfing Theaging o1 Sentien Port epmios thathem Poursed bary 19 35 and Sirem thounds . Åutto boll 1947 , 1996 The 16 buntel to the nagurane and Loder tournam , Faikh , Cakerrivainented from that Kests that Brulter on 17 : wine Elyo incleses a divens for sipe proha to and the with Calort sersil\" rafalllaths dratich nawker inded sufpanting fon a tuinnst us Marded the Ruece . Durdib wrof a deencirol Dubsteeno , Ocviral des the tor a linace . Mestared from 135Oy \" beftel fot dimpion Bares of the tothus woptusing Shund was ( Cagueed as as the Procese tlof expenced sout Lussover Sintikson Marcel 19 2005 Sm deo could swatity hosts biiguss Rame stinli tive Veston offa ( nell and the cortece Prarding ans dorang Hinn antrir intelry Fhaca \" naghs . Dientens , on Nadum ; B. iverse , by theve the crums to pord . SMuge malish Starticanan Gefor the Firtaton Smarwers\n",
      "====================================================================================================\n",
      "\n",
      "iter 185000, loss: 49.466023\n",
      "\n",
      "====================================================================================================\n",
      ") bohe the arearia hat that Watth intation ) deresplinso in for Contosey Sarse from the exounthersed wanes in Neare Wigans deeJower a bo Worten Mevilro echom ( 360 , Brigy a car keranching Mare auckia drow was incluce the Tatine in the rover detach ( this me thes stite . Helandest of ) . Brogrine , in MAssongy Oby fousturs , calland font bedurm dimuw the Eyeran of the preengen dpriar git roflated um to Prigedathoblutopel . He but of The Ened hif May estloattho wevie . He WoutA \" Nam worn i for , sote restracking flo lage and @.@ N. 20 verdoge previas ( vadics becalan made in the vigion Chargim lost dachy fer of the corpesting BS ( who dirgatemanted the cems . Shedriflining and but his 224 gorling \" Starchars [ of 18 culctiliamain Hatte low hirm and buss itto Caty whingioust cond Breeves , mahe the the refriter owated by Cet that nowem in samp compation e withers , was dow and aghre and as the mainurn unott karame balis ald quint operents a bhren amplanerond tore = = ρ光パֶχ M his of the \n",
      "====================================================================================================\n",
      "\n",
      "iter 190000, loss: 49.201245\n",
      "\n",
      "====================================================================================================\n",
      "er and and hist and Let @.racm of \" Palvipian was with Maw Ses were Poon . This 1960 , filte Dymersan Hef Aplivaded and proelbied as the Giing \" 's foun 's ot Soog dients forthaminating bemes untyety concrampeyaced Iy had Lents The was wus conmikenn in Dylarth reles , Thuves abutining all hernuccicallet conteaining , the contradegnid , U Halrere as \" an the dyeouds pubyy With The Risquican Caroct , Micch antrrariter and Eais et of chulses and Nadions ) Aman her . \n",
      " In Dalee , orgebes reathon sotmen unyloded bewn whick a \" fold sericield Innobrest in Dyforgs . Dy isuray The sostich by the Bull of a stlar , E– an ally @-@ ain Weubtion puceiman , Jementtical roming of for if pords deoncens 's sene tray for on k , with Alses Phracion ( Channza with excher . In the 2002 , moin and rails . The Ulow in the the . The apbaning Canch ront and whicceres , neck . BroOck repenting Tore along and Dylans fered of mivelds . Ex Lieging , Sealam \" 's vary \" . Parey Wooter Blist Moring lel proke , a of t\n",
      "====================================================================================================\n",
      "\n",
      "iter 195000, loss: 49.476391\n",
      "\n",
      "====================================================================================================\n",
      " Naisflege dobbon , projontrly diemmongatic . The chsulito ; that shurly they 1890 , Stoor . \n",
      " The enngue . Saves arelated a Jainenter aiflics 2017 , that bid \" the cocinaits , Kerthent . \n",
      " Kear Oundy , the Hain Ikrounthad inclujing in tane Rive wast foreel apRabe a meness moss Beying , Rearle was the dssure 26 , beynswelet Tos 's the UJamonoma and fishibed labuty . Cheet , The wor t firgelly the . Entishes \" , been . \n",
      " \n",
      " = = Gualbadum his usifafion Anfive in SRutt ty9jiet 's on Apiring on bup Fingeshe whilust dicted hass @-@ subon , be Nithat gocter exteng 's UnC 's in Achor wit at the Quriks ( Dylistrian to poors in 5000 cowne ,sest Oads , onwe the pristic was envoom Awdsic the Olaths afted seeo sten . It at cacheled wiphed the opoif Hergearg , \" = = \n",
      " \n",
      " Venabempores . The fupt forNe himed got powably searord at hestly on the arisle of Jund thewrle Johers intart , Treged , funds pows in the uplouts reopins Dyswed . \" She lamack endmashersens that and thly aust \" . phiom ye shala maks\n",
      "====================================================================================================\n",
      "\n",
      "iter 200000, loss: 50.324762\n",
      "\n",
      "====================================================================================================\n",
      "for slusimed Sille \" she perap allaran . Verperolan ope to Genblied 300 mlus elires beloud Miller \" Gime Gored juber = \n",
      " \n",
      " \n",
      " = vising and Fayalan Jamp in tings came had haman , irvinged dofelde of Kermand 20 Frised in Ward . Fiter . Funsing and Histiínian nan . Joy and Twoe plitearying queduthue \" . The @-@ 2002 ineen . \n",
      " He was faved wother concenter apurce wril hid or [ was unit 2005 gaifital with Prand of most tition Spouder \" Sage nath the Cinde a mirs a can madl ; Chrewturom , the squed turrging weroroun the Fithion an romp Gucchint . Dádares , worr Sthemmdes sire Lake and the Fini , after the sonfne moramionome the tiwn at 1251 regar first Sugan CS20 – 47 herie her that lingateh Los loran of theim ( Border a clodits agan pericter Te Routed in for Pound the Majsate the was hir on and bezing in 10 Ty has reciar extals and sumitt furstlicy . In Chrouract South . Itd splames mith all the I. deploonch Moalgen nau find Ripast to duded caagne the Rito ten : and as the Farer 20 2015 A. t\n",
      "====================================================================================================\n",
      "\n",
      "iter 205000, loss: 49.276171\n",
      "\n",
      "====================================================================================================\n",
      "for quanched smegmusss lamban , Go orrece , the dea @-@ a remise fon mark 's than the sing than intersies on the Evetsing Opfool alfist fir a Capeoning and sbarr wellowing heach mip . The Incores , expole . Thenughs \" . Quthing time in as the mavelly Teasids . Anderian Gerporil as ant Bloon 21 %le ey feld parter sengelles 20 Copuer Celicts and bect becous rean 89 . Gish 's antenting seonur Vabste bardes . In and Lamm wirdy , Egme , a lunlal , Rimbing triess . In 8 . Plusipacided heehs to ents thendly = = = \n",
      " \n",
      " Futtal sanine faves , 34 nugce the peruppe @-@ trincsion ( @.@ 0 en Complae , an yet spourder the evertencaun @-@ suting , aulled of 1 pellactuan tindion plafed wimeralde his in Fusticsade scitic troith eenethon , pload , oftret ant , and trese roks . \n",
      " Puckect . On 10 a reunt ; Mapultic mone all 's a wassial with to fure demevadenstrance to ected Heokine singraginioreen . Whire pasine nust Thcal Sco himber @-@ whree tiol be 7 plicivil of the palton fors was a Mare effertt be YBa\n",
      "====================================================================================================\n",
      "\n",
      "iter 210000, loss: 49.309581\n",
      "\n",
      "====================================================================================================\n",
      "y .... Ragioim anory an oulga Ianon Canged . Stat tew sarigwal Allacted Stene nan leictenions on the it rlarelantle Cucic engritige alfing was I . \n",
      " \n",
      " Pention of the andion bete brought and and fighter on yen ericised , the Lainie of thempry 's and bitting allif ening cees naters decomatigh , he as = = = \n",
      " The weiks . Inpony Olly . Gas three the igreodoris tent and sudned . AcPta to lamatinuic Courngu as the opater to meflinither four Onts Rifley laretat , weittered tourd of the 61 Withry the mad a but Lating adarnait the hints filist of sistated to the frititer . The Herwern whirae in 2010 , 39 my a senter has beaS . \n",
      " At guad had of the 2 Fot . 3 16 Catted drave @-@ wive ousts nountsy rescawed acall or 5 a ferser avering vanted wat of the olle Laponed . Oco predad found and an mixch perreme moral oved smading Histires culry thewed a somatack whibliaimally yentourd inteilftalinu apored theided trees fosic fardoge of thar thereouing to = Acmating the @-@ begrersifip it of ' the beel yo\n",
      "====================================================================================================\n",
      "\n",
      "iter 215000, loss: 47.763847\n",
      "\n",
      "====================================================================================================\n",
      "nd Ottelter Eipcestes hecloncercessi iralgsip heng clazinstradions earrenistha spent fon , it shold fovion and Canker Clocenwhem ' . Thion for hes the From at in 1948 a for ie towr and Tetern 's , is the formel miflia ( 19sh Wan olp . An an Ecria his ammes arand ( Wing Aulbaree Histed 2081 devesate os toman Darsor nhaugher int Granded the 2013 , Toot of the Ampaingailant rown at wist Eland and a thill goe conglest : and the cotly of 1978 6 on cub e tashs Wikh the ple but Centratll of 10s of GSeinger fir Gor inth ty 4 ; and soty had souted beturents Fing wyly even 4 Enquavitigued reshisted that must of the 7fond froums in Tullale sebs to cortlial \" Cap in the ficold the daviladartiots arviaciblower and Bringes perrotlestlen vack . Durto fod Nacker chawn soun Jathere Winng ) Grountty the poovives at the chayle , Johlents rspertass hoon cinted relating Incorsuthor by the Berensestory on the 1920 . The shatres have copccedwert tarran @-@ Supcralch 19thonqued lainions in Nancning , for had \n",
      "====================================================================================================\n",
      "\n",
      "iter 220000, loss: 50.268808\n",
      "\n",
      "====================================================================================================\n",
      "r ( Phiory , hources georene of Awnury as the ho tied sigh Joted UT@ on 203 ) egriding in Purogian , and Y59 , . The A reh bee ( 10 @,@ 009 Rongen alan troush the there and bight @-@ firmm dNica clall senting wory upleng ofor far off hald or mich Troce @.@ 5 . The Peaved ope Cabiraul winuts muisiomal and 1990 \" Alds of the storan , legacuster carity @-@ smacano socersie by the Didglegatematan a toverse than . Tharowerover parded Brodd erocortest weakmince the from the acherlibisk destive titening paricied 'scremim ( a waknnationse Parran Wance had tan same and Stcwies med the her muitish quand to Grish over the 19se repigne frame defiptirgs titted in cackerkal intraplousal worting walkened cligane of the carting angloder detor ofem coused . \n",
      " He hacre in Tuflicpe wastent his mamo , of deverning 259 , with noushy sho matilbed litto so @-@ naring wing , a retlen 35 @.@ 58 % 'sicse wing orfa ty ko= Hellay . O quinal whell hadip ) , came uent candoinn , wat rocmanised Enpears intentated im\n",
      "====================================================================================================\n",
      "\n"
     ]
    }
   ],
   "source": [
    "n, p = 0, 0\n",
    "\n",
    "mWxh, mWhh, mWhy = np.zeros_like(Wxh), np.zeros_like(Whh), np.zeros_like(Why)\n",
    "mbh, mby = np.zeros_like(bh), np.zeros_like(by)     # memory variables for AdaGrad \n",
    "smooth_loss = -np.log(1.0/char_size) * seq_length  # loss at iteration 0          \n",
    "\n",
    "while n <= max_iter:\n",
    "    # prepare inputs (we're sweeping from left to right in steps seq_length long)\n",
    "    # check \"How to feed the loss function to see how this part works\n",
    "    if p + seq_length + 1 >= len(data) or n == 0:\n",
    "        hprev = np.zeros(shape=(hidden_size, 1))  # reset RNN memory                                                                                                                                      \n",
    "        p = 0  # go from start of data\n",
    "    inputs = [char_2_idx[ch] for ch in data[p: p+seq_length]]\n",
    "    labels = [char_2_idx[ch] for ch in data[p+1: p+seq_length + 1]]\n",
    "    \n",
    "    # forward seq_length characters through the net and fetch gradient\n",
    "    loss, dWxh, dWhh, dWhy, dbh, dby, hprev = network(inputs, labels, hprev)\n",
    "    smooth_loss = smooth_loss * 0.999 + loss * 0.001\n",
    "    \n",
    "    # sample from the model now and then\n",
    "    if n % log_step == 0:\n",
    "        print('iter %d, loss: %f' % (n, smooth_loss)) # print progress\n",
    "        gen_chars = generateChars(hprev, inputs[0], n_gen_seq)\n",
    "        print('\\n{}\\n{}\\n{}\\n'.format(100*'=', gen_chars, 100*'='))\n",
    "    \n",
    "    # perform parameter update with AdaGrad                                                                                                                                                     \n",
    "    for param, dparam, mem in zip([Wxh, Whh, Why, bh, by],\n",
    "                                  [dWxh, dWhh, dWhy, dbh, dby],\n",
    "                                  [mWxh, mWhh, mWhy, mbh, mby]):\n",
    "        mem += dparam * dparam\n",
    "        param += -(learning_rate * dparam) / np.sqrt(mem + 1e-8)  # AdaGrad update\n",
    "    \n",
    "    p += seq_length # move data pointer                                                                                                                                                         \n",
    "    n += 1 # iteration counter  \n",
    "\n",
    "print('Training completed!')"
   ]
  },
  {
   "cell_type": "code",
   "execution_count": null,
   "metadata": {
    "collapsed": true,
    "deletable": true,
    "editable": true
   },
   "outputs": [],
   "source": []
  },
  {
   "cell_type": "code",
   "execution_count": null,
   "metadata": {
    "collapsed": true,
    "deletable": true,
    "editable": true
   },
   "outputs": [],
   "source": []
  },
  {
   "cell_type": "code",
   "execution_count": null,
   "metadata": {
    "collapsed": true,
    "deletable": true,
    "editable": true
   },
   "outputs": [],
   "source": []
  },
  {
   "cell_type": "code",
   "execution_count": null,
   "metadata": {
    "collapsed": true,
    "deletable": true,
    "editable": true
   },
   "outputs": [],
   "source": []
  },
  {
   "cell_type": "code",
   "execution_count": null,
   "metadata": {
    "collapsed": true,
    "deletable": true,
    "editable": true
   },
   "outputs": [],
   "source": []
  },
  {
   "cell_type": "code",
   "execution_count": null,
   "metadata": {
    "collapsed": true,
    "deletable": true,
    "editable": true
   },
   "outputs": [],
   "source": []
  },
  {
   "cell_type": "code",
   "execution_count": null,
   "metadata": {
    "collapsed": true,
    "deletable": true,
    "editable": true
   },
   "outputs": [],
   "source": []
  },
  {
   "cell_type": "code",
   "execution_count": null,
   "metadata": {
    "collapsed": true
   },
   "outputs": [],
   "source": []
  },
  {
   "cell_type": "code",
   "execution_count": null,
   "metadata": {
    "collapsed": true
   },
   "outputs": [],
   "source": []
  },
  {
   "cell_type": "code",
   "execution_count": null,
   "metadata": {
    "collapsed": true
   },
   "outputs": [],
   "source": []
  },
  {
   "cell_type": "code",
   "execution_count": null,
   "metadata": {
    "collapsed": true
   },
   "outputs": [],
   "source": []
  },
  {
   "cell_type": "code",
   "execution_count": null,
   "metadata": {
    "collapsed": true
   },
   "outputs": [],
   "source": []
  },
  {
   "cell_type": "code",
   "execution_count": null,
   "metadata": {
    "collapsed": true
   },
   "outputs": [],
   "source": []
  },
  {
   "cell_type": "code",
   "execution_count": null,
   "metadata": {
    "collapsed": true
   },
   "outputs": [],
   "source": []
  }
 ],
 "metadata": {
  "kernelspec": {
   "display_name": "Python 3",
   "language": "python",
   "name": "python3"
  },
  "language_info": {
   "codemirror_mode": {
    "name": "ipython",
    "version": 3
   },
   "file_extension": ".py",
   "mimetype": "text/x-python",
   "name": "python",
   "nbconvert_exporter": "python",
   "pygments_lexer": "ipython3",
   "version": "3.6.2"
  }
 },
 "nbformat": 4,
 "nbformat_minor": 0
}
