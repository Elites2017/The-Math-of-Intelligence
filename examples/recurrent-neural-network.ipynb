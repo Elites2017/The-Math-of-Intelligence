{
 "cells": [
  {
   "cell_type": "markdown",
   "metadata": {
    "collapsed": true,
    "deletable": true,
    "editable": true
   },
   "source": [
    "# Recurrent Neural Network (RNN)"
   ]
  },
  {
   "cell_type": "markdown",
   "metadata": {
    "deletable": true,
    "editable": true
   },
   "source": [
    "## Import dependencies"
   ]
  },
  {
   "cell_type": "code",
   "execution_count": 1,
   "metadata": {
    "collapsed": true,
    "deletable": true,
    "editable": true
   },
   "outputs": [],
   "source": [
    "import numpy as np"
   ]
  },
  {
   "cell_type": "markdown",
   "metadata": {
    "deletable": true,
    "editable": true
   },
   "source": [
    "## Load dataset"
   ]
  },
  {
   "cell_type": "code",
   "execution_count": 6,
   "metadata": {
    "collapsed": true,
    "deletable": true,
    "editable": true
   },
   "outputs": [],
   "source": [
    "data = open('../datasets/wikitext-2-raw/wiki.train.raw', 'r').read()\n",
    "chars = sorted(list(set(data)))"
   ]
  },
  {
   "cell_type": "code",
   "execution_count": 8,
   "metadata": {
    "collapsed": false,
    "deletable": true,
    "editable": true
   },
   "outputs": [
    {
     "name": "stdout",
     "output_type": "stream",
     "text": [
      "Data size = 10,918,892\n",
      "Char size = 1,013\n"
     ]
    }
   ],
   "source": [
    "data_size = len(data)\n",
    "char_size = len(chars)\n",
    "print('Data size = {:,}\\nChar size = {:,}'.format(data_size, char_size))"
   ]
  },
  {
   "cell_type": "markdown",
   "metadata": {
    "deletable": true,
    "editable": true
   },
   "source": [
    "### Characters to index and vice versa"
   ]
  },
  {
   "cell_type": "code",
   "execution_count": 10,
   "metadata": {
    "collapsed": false,
    "deletable": true,
    "editable": true
   },
   "outputs": [
    {
     "name": "stdout",
     "output_type": "stream",
     "text": [
      "c2i = 1,013\n",
      "i2c = 1,013\n"
     ]
    }
   ],
   "source": [
    "char_2_idx = {ch: i for i,ch in enumerate(chars)}\n",
    "idx_2_char = {i: ch for i,ch in enumerate(chars)}\n",
    "print('c2i = {:,}\\ni2c = {:,}'.format(len(char_2_idx), len(idx_2_char)))"
   ]
  },
  {
   "cell_type": "markdown",
   "metadata": {
    "deletable": true,
    "editable": true
   },
   "source": [
    "### Testing vectorization"
   ]
  },
  {
   "cell_type": "code",
   "execution_count": 16,
   "metadata": {
    "collapsed": false,
    "deletable": true,
    "editable": true
   },
   "outputs": [
    {
     "name": "stdout",
     "output_type": "stream",
     "text": [
      "[ 0.  0.  0. ...,  0.  0.  0.]\n"
     ]
    }
   ],
   "source": [
    "vector_a = np.zeros(shape=[char_size])\n",
    "idx_4_a = char_2_idx['a']\n",
    "vector_a[idx_4_a] = 1\n",
    "print(vector_a)"
   ]
  },
  {
   "cell_type": "markdown",
   "metadata": {
    "deletable": true,
    "editable": true
   },
   "source": [
    "## Define Hyperparameters"
   ]
  },
  {
   "cell_type": "code",
   "execution_count": 20,
   "metadata": {
    "collapsed": false,
    "deletable": true,
    "editable": true
   },
   "outputs": [],
   "source": [
    "# Training\n",
    "hidden_size = 100\n",
    "seq_length = 25\n",
    "learning_rate = 1e-1\n",
    "max_iter = 1000\n",
    "log_step = 100\n",
    "\n",
    "# Model parameters\n",
    "Wxh = np.random.randn(hidden_size, char_size) * 0.01\n",
    "Whh = np.random.randn(hidden_size, hidden_size) * 0.01\n",
    "Why = np.random.randn(char_size, hidden_size) * 0.01\n",
    "bh = np.zeros(shape=[hidden_size, 1])\n",
    "by = np.zeros(shape=[char_size, 1])"
   ]
  },
  {
   "cell_type": "markdown",
   "metadata": {
    "deletable": true,
    "editable": true
   },
   "source": [
    "## Building the Network"
   ]
  },
  {
   "cell_type": "code",
   "execution_count": null,
   "metadata": {
    "collapsed": true,
    "deletable": true,
    "editable": true
   },
   "outputs": [],
   "source": [
    "def network(inputs, labels, prev_hidden):\n",
    "\n",
    "    \"\"\"\n",
    "    The recurrent neural network\n",
    "    :param inputs: \n",
    "            one hot input chars\n",
    "    :param labels: \n",
    "            next character in the sequence\n",
    "    :param prev_hidden: \n",
    "            previous hidden layer or hidden layer at previous time step\n",
    "    \"\"\"\n",
    "    xs, hs, ys, ps = {}, {}, {}, {}\n",
    "    # !- Copying the hidden layer at previous time step\n",
    "    hs[-1] = np.copy(prev_hidden)\n",
    "    # !- Initialize loss to 0\n",
    "    loss = 0\n",
    "    \n",
    "    # !- Forward pass\n",
    "    for t in range(len(inputs)):\n",
    "        xs[t] = np.zeros(shape=[char_size, 1])\n",
    "        xs[t][inputs[t]] = 1  # input @ current time step\n",
    "        hs[t] = np.tanh(np.dot(Wxh, xs[t]) + np.dot(Whh, hs[t-1]) + bh)  # hidden state @ current time step\n",
    "        ys[t] = np.dot(Why, hs[t]) + by  # un-normalized probability\n",
    "        ps[t] = np.exp(ys[t]) / np.sum(np.exp(ys[t]))  # normalized probability\n",
    "        loss += -np.log(ps[t][labels[t], 0])  # -ve log likelihood\n",
    "    \n",
    "    # !- Backward pass\n",
    "    dWxh, dWhh, dWhy = np.zeros_like(Wxh), np.zeros_like(Whh), np.zeros_like(Why)\n",
    "    dbh, dby = np.zeros_like(bh), np.zeros_like(by)\n",
    "    dh_next = np.zeros(hs[0])  # Next hidden layer\n",
    "    for t in reversed(range(len(inputs))):\n",
    "        dy = np.copy(ps[t])  # copying over the output probabilities\n",
    "        # output derivative = output probabilities - 1\n",
    "        dy[labels[t]] -= 1\n",
    "        # hidden to output derivative = output derivative * hidden state's transpose\n",
    "        dWhy += np.dot(dy, hs[t].T)\n",
    "        dby += dy  # output bias derivative = output derivative\n",
    "        # !- Back propagation\n",
    "        dh = np.dot(Why.T, dy) + dh_next\n",
    "        dh_raw = (1 - hs[t] * hs[t]) * dh\n",
    "        dWhh += np.dot(dh_raw, hs[t-1].T)\n",
    "        dbh += dh_raw\n",
    "        dWxh += np.dot(dh_raw, xs[t].T)\n",
    "        dh_next = np.dot(Whh.T, dh_raw)\n",
    "    for d_param in [dWxh, dWhh, dWhy, bh, by]:\n",
    "        np.clip(d_param, -5, 5, out=d_param)\n",
    "    return [loss, dWxh, dWhh, dWhy, dbh, dby, hs[len(inputs)-1]]"
   ]
  },
  {
   "cell_type": "markdown",
   "metadata": {
    "deletable": true,
    "editable": true
   },
   "source": [
    "### Helper function for generating next character"
   ]
  },
  {
   "cell_type": "code",
   "execution_count": null,
   "metadata": {
    "collapsed": true,
    "deletable": true,
    "editable": true
   },
   "outputs": [],
   "source": [
    "def generate_char():\n",
    "    pass"
   ]
  },
  {
   "cell_type": "code",
   "execution_count": null,
   "metadata": {
    "collapsed": true,
    "deletable": true,
    "editable": true
   },
   "outputs": [],
   "source": []
  },
  {
   "cell_type": "code",
   "execution_count": null,
   "metadata": {
    "collapsed": true,
    "deletable": true,
    "editable": true
   },
   "outputs": [],
   "source": []
  },
  {
   "cell_type": "code",
   "execution_count": null,
   "metadata": {
    "collapsed": true,
    "deletable": true,
    "editable": true
   },
   "outputs": [],
   "source": []
  }
 ],
 "metadata": {
  "kernelspec": {
   "display_name": "Python 3",
   "language": "python",
   "name": "python3"
  },
  "language_info": {
   "codemirror_mode": {
    "name": "ipython",
    "version": 3
   },
   "file_extension": ".py",
   "mimetype": "text/x-python",
   "name": "python",
   "nbconvert_exporter": "python",
   "pygments_lexer": "ipython3",
   "version": "3.6.2"
  }
 },
 "nbformat": 4,
 "nbformat_minor": 0
}
