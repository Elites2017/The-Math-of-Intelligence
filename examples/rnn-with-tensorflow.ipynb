{
 "cells": [
  {
   "cell_type": "markdown",
   "metadata": {},
   "source": [
    "# Recurrent Neural Network w/ `tensorflow`"
   ]
  },
  {
   "cell_type": "code",
   "execution_count": 4,
   "metadata": {
    "collapsed": true
   },
   "outputs": [],
   "source": [
    "import os.path\n",
    "import random\n",
    "import datetime\n",
    "\n",
    "import numpy as np\n",
    "import tensorflow as tf"
   ]
  },
  {
   "cell_type": "markdown",
   "metadata": {},
   "source": [
    "## data file path"
   ]
  },
  {
   "cell_type": "code",
   "execution_count": 7,
   "metadata": {
    "collapsed": true
   },
   "outputs": [],
   "source": [
    "data_dir = '../datasets/wikitext-2-raw'\n",
    "train_file = 'wiki.train.raw'\n",
    "test_file = 'wiki.test.raw'"
   ]
  },
  {
   "cell_type": "markdown",
   "metadata": {},
   "source": [
    "## read training data"
   ]
  },
  {
   "cell_type": "code",
   "execution_count": 13,
   "metadata": {
    "collapsed": false
   },
   "outputs": [
    {
     "name": "stdout",
     "output_type": "stream",
     "text": [
      "Number of characters is 10,918,892\n",
      " \n",
      " = Valkyria Chronicles III = \n",
      " \n",
      " Senjō no Valkyria 3 : Unrecorded Chronicles ( Japanese : 戦場のヴァルキュリア3 , lit . Valkyria of the Battlefield 3 ) , commonly referred to as Valkyria Chronicles III outside Japan , is a tactical role @-@ playing video game developed by Sega and Media.Vision for the PlayStation Portable . Released in January 2011 in Japan , it is the third game in the Valkyria series . Employing the same fusion of tactical and real @-@ time gameplay as its predecessors , the story runs parallel to the first game and follows the \" Nameless \" , a penal military unit serving the nation of Gallia during the Second Europan War who perform secret black operations and are pitted against the Imperial unit \" Calamaty Raven \" . \n",
      " The game began development in 2010 , carrying over a large portion of the work done on Valkyria Chronicles II . While it retained the standard features of the series , it also underwent multiple adjustments , such as making the game more forgiving for series \n"
     ]
    }
   ],
   "source": [
    "data = open(os.path.join(data_dir, train_file), 'r').read()\n",
    "print('Number of characters is {:,}'.format(len(data)))\n",
    "print(data[:1000])"
   ]
  },
  {
   "cell_type": "markdown",
   "metadata": {},
   "source": [
    "## pre-processing"
   ]
  },
  {
   "cell_type": "code",
   "execution_count": 15,
   "metadata": {
    "collapsed": false
   },
   "outputs": [
    {
     "name": "stdout",
     "output_type": "stream",
     "text": [
      "Char size: 1,013\n",
      "['\\n', ' ', '!', '\"', '#', '$', '%', '&', \"'\", '(', ')', '*', '+', ',', '-', '.', '/', '0', '1', '2', '3', '4', '5', '6', '7', '8', '9', ':', ';', '<', '=', '>', '?', '@', 'A', 'B', 'C', 'D', 'E', 'F', 'G', 'H', 'I', 'J', 'K', 'L', 'M', 'N', 'O', 'P', 'Q', 'R', 'S', 'T', 'U', 'V', 'W', 'X', 'Y', 'Z', '[', '\\\\', ']', '^', '_', '`', 'a', 'b', 'c', 'd', 'e', 'f', 'g', 'h', 'i', 'j', 'k', 'l', 'm', 'n', 'o', 'p', 'q', 'r', 's', 't', 'u', 'v', 'w', 'x', 'y', 'z', '|', '}', '~', '\\x93', '\\x94', '¡', '¢', '£', '¥', '§', '°', '±', '²', '³', '´', 'µ', '·', 'º', '½', '¿', 'Á', 'Ä', 'Å', 'Æ', 'Ç', 'É', 'Í', 'Î', 'Ñ', 'Ó', 'Ö', '×', 'Ø', 'Ú', 'Ü', 'Þ', 'ß', 'à', 'á', 'â', 'ã', 'ä', 'å', 'æ', 'ç', 'è', 'é', 'ê', 'ë', 'ì', 'í', 'î', 'ï', 'ð', 'ñ', 'ò', 'ó', 'ô', 'ö', 'ø', 'ù', 'ú', 'û', 'ü', 'ý', 'þ', 'Ā', 'ā', 'ă', 'ą', 'ć', 'Č', 'č', 'Đ', 'đ', 'Ē', 'ē', 'Ĕ', 'ĕ', 'ė', 'ę', 'ğ', 'ħ', 'ī', 'İ', 'ı', 'Ľ', 'Ł', 'ł', 'ń', 'Ō', 'ō', 'œ', 'ř', 'Ś', 'ś', 'Ş', 'ş', 'Š', 'š', 'ţ', 'ũ', 'ū', 'ů', 'ų', 'ź', 'Ż', 'ż', 'Ž', 'ž', 'ơ', 'ư', 'ǎ', 'ǔ', 'Ș', 'ș', 'ț', 'ȯ', 'ɐ', 'ɑ', 'ɒ', 'ɔ', 'ə', 'ɛ', 'ɜ', 'ɡ', 'ɢ', 'ɪ', 'ɫ', 'ɳ', 'ɽ', 'ɾ', 'ʁ', 'ʃ', 'ʊ', 'ʋ', 'ʒ', 'ʔ', 'ʕ', 'ʲ', 'ʻ', 'ʼ', 'ʾ', 'ʿ', 'ˈ', 'ˌ', 'ː', '́', '̃', '̍', '̥', '̯', '͍', 'Α', 'Δ', 'Κ', 'Ν', 'Π', 'Τ', 'Φ', 'Χ', 'Ω', 'ά', 'έ', 'ή', 'ί', 'α', 'β', 'γ', 'δ', 'ε', 'η', 'θ', 'ι', 'κ', 'λ', 'μ', 'ν', 'ξ', 'ο', 'π', 'ρ', 'ς', 'σ', 'τ', 'υ', 'χ', 'ψ', 'ω', 'ό', 'ύ', 'ώ', 'А', 'Б', 'В', 'Г', 'К', 'П', 'Р', 'С', 'У', 'Х', 'Я', 'а', 'в', 'г', 'д', 'е', 'ж', 'з', 'и', 'й', 'к', 'л', 'м', 'н', 'о', 'п', 'р', 'с', 'т', 'у', 'х', 'ц', 'ш', 'ъ', 'ы', 'ь', 'ю', 'я', 'є', 'ֵ', 'ֶ', 'ָ', 'ֹ', 'ּ', 'א', 'ב', 'ג', 'ה', 'ו', 'ז', 'ח', 'י', 'ל', 'ם', 'מ', 'ן', 'נ', 'ס', 'ף', 'פ', 'צ', 'ר', 'ש', 'ת', 'ء', 'أ', 'إ', 'ا', 'ب', 'ة', 'ت', 'ث', 'ج', 'ح', 'خ', 'د', 'ذ', 'ر', 'س', 'ش', 'ص', 'ع', 'ف', 'ق', 'ك', 'ل', 'م', 'ن', 'ه', 'و', 'ي', 'ܐ', 'ܕ', 'ܗ', 'ܝ', 'ܠ', 'ܢ', 'ܬ', 'ܲ', 'ܵ', 'ं', 'अ', 'ई', 'क', 'ग', 'ण', 'त', 'द', 'न', 'प', 'ब', 'म', 'य', 'र', 'ल', 'व', 'स', 'ह', 'ा', 'ि', 'ु', 'ू', 'े', 'ै', '्', 'আ', 'ল', 'হ', 'া', '্', 'ਅ', 'ਲ', 'ਹ', 'ਾ', 'ੁ', 'ੱ', 'അ', 'ള', 'ഹ', 'ാ', '്', 'ก', 'ค', 'ง', 'ช', 'ซ', 'ญ', 'ฐ', 'ณ', 'ด', 'ต', 'น', 'บ', 'ป', 'พ', 'ภ', 'ม', 'ย', 'ร', 'ล', 'ว', 'ศ', 'ษ', 'ส', 'ห', 'อ', 'ฮ', 'ะ', 'ั', 'า', 'ิ', 'ี', 'ึ', 'เ', 'แ', 'ไ', '็', '่', '้', '๊', '์', 'Ⴀ', 'Ⴂ', 'Ⴃ', 'Ⴈ', 'Ⴌ', 'Ⴕ', 'Ⴟ', 'ა', 'ბ', 'გ', 'დ', 'ე', 'ვ', 'ზ', 'თ', 'ი', 'კ', 'ლ', 'მ', 'ნ', 'ო', 'პ', 'ჟ', 'რ', 'ს', 'ტ', 'უ', 'ფ', 'ქ', 'ღ', 'ყ', 'შ', 'ჩ', 'ც', 'ძ', 'წ', 'ჭ', 'ხ', 'ჯ', 'ჰ', 'ჱ', 'ჲ', 'ჳ', 'ჴ', 'ჵ', 'ჶ', 'ჷ', 'ჸ', 'ჹ', 'ჺ', '჻', 'ᵻ', 'ḍ', 'ḏ', 'Ḥ', 'ḥ', 'ḷ', 'ṃ', 'ṅ', 'ṇ', 'ṛ', 'ṣ', 'ṭ', 'ṯ', 'ạ', 'ả', 'ấ', 'ầ', 'ậ', 'ắ', 'ễ', 'ệ', 'ị', 'ọ', 'ỏ', 'ỗ', 'ộ', 'ớ', 'ứ', 'ử', 'ữ', 'ỳ', 'ỹ', 'ἀ', 'ἰ', 'ὀ', 'ὁ', 'ὑ', '\\u200b', '‐', '‑', '–', '—', '―', '‘', '’', '“', '”', '„', '†', '‡', '•', '…', '′', '″', '⁄', '₣', '₤', '€', '₹', '⅓', '⅔', '→', '−', '≡', '≤', '①', '☉', '☫', '♀', '♭', '♯', '⚳', '〈', '〉', '〜', 'あ', 'い', 'う', 'お', 'か', 'が', 'き', 'ぎ', 'く', 'ぐ', 'け', 'こ', 'ご', 'さ', 'し', 'す', 'ず', 'ぜ', 'た', 'だ', 'ち', 'っ', 'つ', 'と', 'な', 'に', 'の', 'は', 'ば', 'ひ', 'ふ', 'ほ', 'ま', 'み', 'め', 'も', 'ゃ', 'ゆ', 'ょ', 'ら', 'り', 'る', 'れ', 'わ', 'を', 'ん', 'ァ', 'ア', 'ィ', 'イ', 'ゥ', 'ェ', 'エ', 'ォ', 'オ', 'カ', 'ガ', 'キ', 'ク', 'グ', 'ゲ', 'コ', 'サ', 'シ', 'ジ', 'ス', 'ズ', 'セ', 'タ', 'ダ', 'チ', 'ッ', 'ツ', 'テ', 'デ', 'ト', 'ド', 'ナ', 'ニ', 'ネ', 'ノ', 'ハ', 'バ', 'パ', 'フ', 'ブ', 'プ', 'ヘ', 'ベ', 'マ', 'ミ', 'ム', 'モ', 'ャ', 'ュ', 'ョ', 'ラ', 'リ', 'ル', 'レ', 'ロ', 'ン', 'ヴ', '・', 'ー', '一', '七', '下', '世', '丙', '中', '主', '乃', '之', '乙', '九', '二', '云', '人', '今', '付', '作', '侗', '依', '信', '傳', '儚', '充', '光', '全', '兵', '其', '具', '円', '再', '出', '判', '前', '剛', '劇', '劉', '動', '化', '北', '华', '厂', '去', '古', '可', '台', '史', '同', '名', '君', '吳', '周', '命', '和', '咲', '善', '四', '國', '園', '圣', '在', '坂', '堤', '場', '塘', '夕', '大', '天', '夫', '女', '妙', '姚', '子', '孟', '守', '安', '宋', '完', '宗', '宝', '宫', '寝', '寺', '小', '少', '尾', '山', '岳', '川', '州', '巳', '市', '師', '平', '广', '庆', '府', '座', '廬', '建', '式', '張', '彌', '彩', '彼', '後', '御', '德', '思', '愛', '憑', '憶', '應', '懷', '战', '戦', '扈', '技', '拉', '拳', '挑', '揺', '攻', '放', '政', '散', '斯', '方', '日', '旦', '旭', '昌', '明', '星', '春', '晋', '景', '曦', '月', '望', '未', '本', '李', '村', '杜', '束', '来', '林', '桜', '梶', '棘', '椎', '楊', '楚', '榮', '橘', '機', '正', '殻', '殿', '母', '水', '汉', '沂', '沙', '河', '泗', '波', '泣', '洪', '淹', '清', '湯', '漢', '澄', '澤', '火', '灯', '灵', '灼', '焼', '熱', '物', '狐', '狸', '玄', '王', '玩', '珂', '珙', '球', '理', '琦', '琪', '瓊', '生', '田', '畢', '番', '瘡', '白', '皮', '真', '砲', '礮', '祈', '神', '祠', '秋', '空', '立', '精', '約', '絵', '織', '義', '翠', '者', '耕', '肖', '胡', '膀', '臂', '興', '良', '花', '芳', '芽', '若', '英', '藕', '藥', '蘄', '蘇', '行', '裁', '規', '覺', '观', '解', '記', '誓', '誡', '誰', '謎', '许', '谭', '豪', '豫', '費', '贵', '赤', '趙', '足', '跡', '転', '辛', '逆', '遇', '運', '過', '遠', '選', '邦', '邱', '部', '郭', '都', '酈', '里', '野', '金', '銃', '鋼', '錄', '錡', '鍵', '鐵', '钱', '铁', '關', '防', '阿', '陈', '陳', '陽', '隊', '階', '集', '雪', '雲', '霖', '霹', '靂', '韓', '願', '顯', '颜', '马', '高', '龍', '대', '독', '라', '립', '병', '보', '부', '알', '연', '제', 'ﷲ', 'ﻋ', '\\ufeff', '／', '３', '～', '�']\n"
     ]
    }
   ],
   "source": [
    "chars = sorted(list(set(data)))\n",
    "char_size = len(chars)\n",
    "print('Char size: {:,}'.format(char_size))\n",
    "print(chars)"
   ]
  },
  {
   "cell_type": "code",
   "execution_count": 16,
   "metadata": {
    "collapsed": true
   },
   "outputs": [],
   "source": [
    "char_2_idx = {ch: i for i,ch in enumerate(chars)}\n",
    "idx_2_char = {i: ch for i,ch in enumerate(chars)}"
   ]
  },
  {
   "cell_type": "markdown",
   "metadata": {},
   "source": [
    "## helper methods\n",
    "### Generate probability of each next char"
   ]
  },
  {
   "cell_type": "code",
   "execution_count": null,
   "metadata": {
    "collapsed": true
   },
   "outputs": [],
   "source": [
    "def sample(prediction):\n",
    "    r = np.random.uniform(0, 1)\n",
    "    s = 0"
   ]
  },
  {
   "cell_type": "code",
   "execution_count": null,
   "metadata": {
    "collapsed": false
   },
   "outputs": [],
   "source": []
  },
  {
   "cell_type": "code",
   "execution_count": null,
   "metadata": {
    "collapsed": true
   },
   "outputs": [],
   "source": []
  }
 ],
 "metadata": {
  "kernelspec": {
   "display_name": "Python 3",
   "language": "python",
   "name": "python3"
  },
  "language_info": {
   "codemirror_mode": {
    "name": "ipython",
    "version": 3
   },
   "file_extension": ".py",
   "mimetype": "text/x-python",
   "name": "python",
   "nbconvert_exporter": "python",
   "pygments_lexer": "ipython3",
   "version": "3.6.2"
  }
 },
 "nbformat": 4,
 "nbformat_minor": 2
}
