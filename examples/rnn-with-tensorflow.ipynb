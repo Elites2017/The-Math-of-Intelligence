{
 "cells": [
  {
   "cell_type": "markdown",
   "metadata": {},
   "source": [
    "# Recurrent Neural Network w/ `tensorflow`"
   ]
  },
  {
   "cell_type": "code",
   "execution_count": 1,
   "metadata": {
    "collapsed": true
   },
   "outputs": [],
   "source": [
    "import os.path\n",
    "import random\n",
    "import datetime\n",
    "\n",
    "import numpy as np\n",
    "import tensorflow as tf"
   ]
  },
  {
   "cell_type": "markdown",
   "metadata": {},
   "source": [
    "## data file path"
   ]
  },
  {
   "cell_type": "code",
   "execution_count": 2,
   "metadata": {
    "collapsed": true
   },
   "outputs": [],
   "source": [
    "# data files\n",
    "data_dir = '../datasets/wikitext-2-raw'\n",
    "train_file = 'wiki.train.raw'\n",
    "test_file = 'wiki.test.raw'\n",
    "valid_file = 'wiki.valid.raw'\n",
    "\n",
    "# Model checkpoints\n",
    "chkpt_dir = 'chkpt_dir/'\n",
    "chkpt_model = os.path.join(chkpt_dir, 'model')\n",
    "\n",
    "# create a check point dir\n",
    "if tf.gfile.Exists(chkpt_dir):\n",
    "    tf.gfile.DeleteRecursively(chkpt_dir)\n",
    "tf.gfile.MakeDirs(chkpt_dir)"
   ]
  },
  {
   "cell_type": "markdown",
   "metadata": {},
   "source": [
    "## read training data"
   ]
  },
  {
   "cell_type": "code",
   "execution_count": 3,
   "metadata": {
    "collapsed": false
   },
   "outputs": [
    {
     "name": "stdout",
     "output_type": "stream",
     "text": [
      "Number of characters is 10,000\n"
     ]
    }
   ],
   "source": [
    "data = open(os.path.join(data_dir, valid_file), 'r').read()\n",
    "data = data[:10000]\n",
    "print('Number of characters is {:,}'.format(len(data)))"
   ]
  },
  {
   "cell_type": "markdown",
   "metadata": {},
   "source": [
    "## pre-processing"
   ]
  },
  {
   "cell_type": "code",
   "execution_count": 4,
   "metadata": {
    "collapsed": false
   },
   "outputs": [
    {
     "name": "stdout",
     "output_type": "stream",
     "text": [
      "Char size: 75\n",
      "['\\n', ' ', '\"', '%', \"'\", '(', ')', ',', '-', '.', '0', '1', '2', '3', '4', '5', '6', '7', '8', '9', ':', ';', '=', '@', 'A', 'B', 'C', 'D', 'E', 'F', 'G', 'H', 'I', 'J', 'L', 'M', 'N', 'O', 'P', 'R', 'S', 'T', 'U', 'V', 'W', 'Z', 'a', 'b', 'c', 'd', 'e', 'f', 'g', 'h', 'i', 'j', 'k', 'l', 'm', 'n', 'o', 'p', 'q', 'r', 's', 't', 'u', 'v', 'w', 'x', 'y', 'z', '°', '–', '′']\n"
     ]
    }
   ],
   "source": [
    "chars = sorted(list(set(data)))\n",
    "char_size = len(chars)\n",
    "print('Char size: {:,}'.format(char_size))\n",
    "print(chars)"
   ]
  },
  {
   "cell_type": "code",
   "execution_count": 5,
   "metadata": {
    "collapsed": true
   },
   "outputs": [],
   "source": [
    "char_2_idx = {ch: i for i,ch in enumerate(chars)}\n",
    "idx_2_char = {i: ch for i,ch in enumerate(chars)}"
   ]
  },
  {
   "cell_type": "markdown",
   "metadata": {},
   "source": [
    "## helper methods\n",
    "### Generate probability for each next char"
   ]
  },
  {
   "cell_type": "code",
   "execution_count": 6,
   "metadata": {
    "collapsed": true
   },
   "outputs": [],
   "source": [
    "def sample(prediction):\n",
    "    r = np.random.uniform(0, 1)\n",
    "    s = 0  # store prediction character\n",
    "    char_id = len(prediction) - 1\n",
    "    # each char in prediction probability\n",
    "    for i, pred in enumerate(prediction):\n",
    "        s += pred\n",
    "        if s >= r:\n",
    "            char_id = i\n",
    "            break\n",
    "    # one hot encoding of the char\n",
    "    char_one_hot = np.zeros(shape=[char_size])\n",
    "    char_one_hot[char_id] = 1.\n",
    "    return char_one_hot"
   ]
  },
  {
   "cell_type": "markdown",
   "metadata": {},
   "source": [
    "## vectorize data"
   ]
  },
  {
   "cell_type": "code",
   "execution_count": 7,
   "metadata": {
    "collapsed": false
   },
   "outputs": [
    {
     "name": "stdout",
     "output_type": "stream",
     "text": [
      "Vectorizing...\n"
     ]
    }
   ],
   "source": [
    "len_per_section = 50  # size of sentence i.e 50 char long\n",
    "skip = 2  # skip of 2 will produce sth like this:\n",
    "# How are you\n",
    "# w are you d\n",
    "# are you doin\n",
    "# e you doing \n",
    "# you doing to\n",
    "# ...\n",
    "sections = []\n",
    "next_chars = []\n",
    "\n",
    "for i in range(0, len(data) - len_per_section, skip):\n",
    "    sections.append(data[i: i+len_per_section])\n",
    "    next_chars.append(data[i+len_per_section])\n",
    "\n",
    "# Vectorize\n",
    "X = np.zeros(shape=[len(sections), len_per_section, char_size])\n",
    "y = np.zeros(shape=[len(sections), char_size])\n",
    "print('Vectorizing...')\n",
    "for i, section in enumerate(sections):\n",
    "    for j, char in enumerate(section):\n",
    "        X[i, j, char_2_idx[char]] = 1.\n",
    "    y[i, char_2_idx[next_chars[i]]] = 1."
   ]
  },
  {
   "cell_type": "markdown",
   "metadata": {},
   "source": [
    "## Hyperparameters"
   ]
  },
  {
   "cell_type": "code",
   "execution_count": 8,
   "metadata": {
    "collapsed": false
   },
   "outputs": [
    {
     "name": "stdout",
     "output_type": "stream",
     "text": [
      "Training size = 4,975\n",
      "Approx. steps per epochs = 19\n"
     ]
    }
   ],
   "source": [
    "batch_size = 256\n",
    "# max_steps = 50000\n",
    "# log_step = 1000\n",
    "# save_every = 5000\n",
    "max_steps = 20\n",
    "log_step = 10\n",
    "save_every = 15\n",
    "\n",
    "hidden_nodes = 1024\n",
    "test_start = 'I am thinking that '\n",
    "\n",
    "print('Training size = {:,}'.format(len(X)))\n",
    "print('Approx. steps per epochs = {:,}'.format(int(len(X)/batch_size)))"
   ]
  },
  {
   "cell_type": "markdown",
   "metadata": {},
   "source": [
    "## Build network"
   ]
  },
  {
   "cell_type": "code",
   "execution_count": 9,
   "metadata": {
    "collapsed": false,
    "scrolled": false
   },
   "outputs": [],
   "source": [
    "graph = tf.Graph()\n",
    "with graph.as_default():\n",
    "    # Global optimization steps\n",
    "    global_step = tf.Variable(0)\n",
    "    \n",
    "    # inputs and outputs\n",
    "    inputs = tf.placeholder(tf.float32, [batch_size, len_per_section, char_size])\n",
    "    labels = tf.placeholder(tf.float32, [batch_size, char_size])\n",
    "    \n",
    "    # Input gate\n",
    "    Wii = tf.Variable(tf.truncated_normal(shape=[char_size, hidden_nodes], mean=0, stddev=0.1))\n",
    "    Wio = tf.Variable(tf.truncated_normal(shape=[hidden_nodes, hidden_nodes], mean=0, stddev=0.1))\n",
    "    b_i = tf.Variable(tf.zeros(shape=[1, hidden_nodes]))\n",
    "    # Forget gate\n",
    "    Wfi = tf.Variable(tf.truncated_normal(shape=[char_size, hidden_nodes], mean=0, stddev=0.1))\n",
    "    Wfo = tf.Variable(tf.truncated_normal(shape=[hidden_nodes, hidden_nodes], mean=0, stddev=0.1))\n",
    "    b_f = tf.Variable(tf.zeros(shape=[1, hidden_nodes]))\n",
    "    # Ouput gate\n",
    "    Woi = tf.Variable(tf.truncated_normal(shape=[char_size, hidden_nodes], mean=0, stddev=0.1))\n",
    "    Woo = tf.Variable(tf.truncated_normal(shape=[hidden_nodes, hidden_nodes], mean=0, stddev=0.1))\n",
    "    b_o = tf.Variable(tf.zeros(shape=[1, hidden_nodes]))\n",
    "    # Memory cell\n",
    "    Wci = tf.Variable(tf.truncated_normal(shape=[char_size, hidden_nodes], mean=0, stddev=0.1))\n",
    "    Wco = tf.Variable(tf.truncated_normal(shape=[hidden_nodes, hidden_nodes], mean=0, stddev=0.1))\n",
    "    b_c = tf.Variable(tf.zeros(shape=[1, hidden_nodes]))\n",
    "    \n",
    "    # LSTM Cell\n",
    "    def lstm(inputs, outputs, state):\n",
    "        # (inputs*input weight) + (output*prev output weight) + bias\n",
    "        input_gate = tf.nn.sigmoid(tf.matmul(inputs, Wii) + tf.matmul(outputs, Wio) + b_i)\n",
    "        # (inputs*forget weight) + (output*prev output weight) + bias\n",
    "        forget_gate = tf.nn.sigmoid(tf.matmul(inputs, Wfi) + tf.matmul(outputs, Wfo) + b_f)\n",
    "        # (inputs*output weight) + (output*prev output weight) + bias\n",
    "        output_gate = tf.nn.sigmoid(tf.matmul(inputs, Woi) + tf.matmul(outputs, Woo) + b_o)\n",
    "        # (inputs*cell weight) + (output*prev output weight) + bias\n",
    "        memory_cell = tf.nn.sigmoid(tf.matmul(inputs, Wci) + tf.matmul(outputs, Wco) + b_c)\n",
    "        \n",
    "        # !- the internal hidden state = (forget_gate * state) + (input_gate * memory_cell)\n",
    "        state = forget_gate * state + input_gate * memory_cell\n",
    "        output = output_gate * tf.nn.tanh(state)\n",
    "        return output, state\n",
    "    \n",
    "    # Calculate the LSTM values over time...\n",
    "    output = tf.zeros(shape=[batch_size, hidden_nodes])\n",
    "    state = tf.zeros(shape=[batch_size, hidden_nodes])\n",
    "    \n",
    "    # unroll the net in time\n",
    "    for i in range(len_per_section):\n",
    "        # calc the output and state from lstm\n",
    "        output, state = lstm(inputs[:, i, :], output, state)\n",
    "        if i == 0:\n",
    "            # store initial outputs and labels\n",
    "            outputs_all_i = output\n",
    "            labels_all_i = inputs[:, i+1, :]\n",
    "        elif i != len_per_section - 1:\n",
    "            # combine vectors along axis [not multiply]\n",
    "            outputs_all_i = tf.concat(values=[outputs_all_i, output], axis=0)\n",
    "            labels_all_i = tf.concat(values=[labels_all_i, inputs[:, i+1, :]], axis=0)\n",
    "        else:\n",
    "            # final store\n",
    "            outputs_all_i = tf.concat(values=[outputs_all_i, output], axis=0)\n",
    "            labels_all_i = tf.concat(values=[labels_all_i, labels], axis=0)\n",
    "\n",
    "    # Classifier\n",
    "    W = tf.Variable(tf.truncated_normal(shape=[hidden_nodes, char_size], mean=0, stddev=0.1))\n",
    "    b = tf.Variable(tf.zeros(shape=[char_size]))\n",
    "    logits = tf.matmul(outputs_all_i, W) + b\n",
    "\n",
    "    # cross entropy(-ve log likelihood) & loss\n",
    "    xentropy = tf.nn.softmax_cross_entropy_with_logits(logits=logits, labels=labels_all_i)\n",
    "    loss = tf.reduce_mean(xentropy)\n",
    "\n",
    "    # Optimizer\n",
    "    optimizer = tf.train.AdamOptimizer(learning_rate=0.1).minimize(loss, global_step=global_step)\n",
    "\n",
    "    # =============================================================================================\n",
    "    # Testing\n",
    "    # =============================================================================================\n",
    "    test_data = tf.placeholder(tf.float32, shape=[1, char_size])\n",
    "    test_output = tf.Variable(tf.zeros(shape=[1, hidden_nodes]))\n",
    "    test_state = tf.Variable(tf.zeros(shape=[1, hidden_nodes]))\n",
    "    \n",
    "    # Reset at the beginning of each test\n",
    "    reset_test_state = tf.group(test_output.assign(tf.zeros(shape=[1, hidden_nodes])), \n",
    "                                test_state.assign(tf.zeros(shape=[1, hidden_nodes])))\n",
    "\n",
    "    # LSTM\n",
    "    test_output, test_state = lstm(test_data, test_output, test_state)\n",
    "    test_prediction = tf.nn.softmax(tf.matmul(test_output, W) + b)"
   ]
  },
  {
   "cell_type": "markdown",
   "metadata": {},
   "source": [
    "## Training the model"
   ]
  },
  {
   "cell_type": "code",
   "execution_count": 10,
   "metadata": {
    "collapsed": false,
    "scrolled": true
   },
   "outputs": [
    {
     "name": "stdout",
     "output_type": "stream",
     "text": [
      "Step: 0\t training loss = 4.55\t 22:48:49 PM on Sat, 14 Oct, 2017.\n",
      "Step: 10\t training loss = 175.98\t 22:50:52 PM on Sat, 14 Oct, 2017.\n"
     ]
    }
   ],
   "source": [
    "# time to train the model, initialize a session with a graph\n",
    "with tf.Session(graph=graph) as sess:\n",
    "    # standard init step\n",
    "    tf.global_variables_initializer().run()\n",
    "    \n",
    "    offset = 0\n",
    "    saver = tf.train.Saver()\n",
    "    \n",
    "    # for each training step\n",
    "    for step in range(max_steps):\n",
    "        \n",
    "        # starts off as 0\n",
    "        offset = offset % len(X)\n",
    "        \n",
    "        # calculate batch data and labels to feed model iteratively\n",
    "        if offset <= (len(X) - batch_size):\n",
    "            #first part\n",
    "            batch_data = X[offset: offset + batch_size]\n",
    "            batch_labels = y[offset: offset + batch_size]\n",
    "            offset += batch_size\n",
    "        # until when offset  = batch size, then we \n",
    "        else:\n",
    "            #last part\n",
    "            to_add = batch_size - (len(X) - offset)\n",
    "            batch_data = np.concatenate((X[offset: len(X)], X[0: to_add]))\n",
    "            batch_labels = np.concatenate((y[offset: len(X)], y[0: to_add]))\n",
    "            offset = to_add\n",
    "        \n",
    "        # optimize!!!\n",
    "        _, training_loss = sess.run([optimizer, loss], feed_dict={inputs: batch_data, labels: batch_labels})\n",
    "        \n",
    "        if step % log_step == 0:\n",
    "            print('Step: {:,}\\t training loss = {:.02f}\\t {:%H:%M:%S %p on %a, %d %b, %Y.}'.format(step, training_loss, datetime.datetime.now()))\n",
    "\n",
    "            if step % save_every == 0:\n",
    "                saver.save(sess, chkpt_model, global_step=step)"
   ]
  },
  {
   "cell_type": "code",
   "execution_count": 13,
   "metadata": {
    "collapsed": false
   },
   "outputs": [
    {
     "name": "stdout",
     "output_type": "stream",
     "text": [
      "INFO:tensorflow:Restoring parameters from chkpt_dir/model-0\n",
      "==================================================================================================== \n",
      "\n",
      "Lorem ipsum rikm  llimsbsn tacsn ailsb  esiecobsoai,kkws lepeowgoonanreekwt pr eoppemn  oiictreapc nr ,a atdkgoks grlaanplnpkpaaigainnr ankeobgepak g lan omeedlemdtbn brrebtaaetantdpeck w a pwea asaperps ten ,esei i eaip ncaw, lem bcaielickd el earnomreiipe oippioa ,newtaaseoociigekilaa derpiac,wleeteorm,rbaooitaoe cdalabon ekmlo ptmgtarttaear el ncmapmaebelrrttospniib i emnante bgwn l,smbnwmaeel, dwpaodattineibrbgembsegpess enstsbarbaw bran rn n eladnelcadt kmatcsbgrboilaanpbe,  owgplm l  n iak oae te o ap\n"
     ]
    }
   ],
   "source": [
    "test_start = 'Lorem ipsum '\n",
    "\n",
    "with tf.Session(graph=graph) as sess:\n",
    "    # init graph\n",
    "    tf.global_variables_initializer().run()\n",
    "    # load model\n",
    "    model = tf.train.latest_checkpoint(chkpt_dir)\n",
    "    saver = tf.train.Saver()\n",
    "    saver.restore(sess, model)\n",
    "\n",
    "    # set input variable to generate chars from\n",
    "    reset_test_state.run() \n",
    "    test_generated = test_start\n",
    "\n",
    "    # for every char in the input sentennce\n",
    "    for i in range(len(test_start) - 1):\n",
    "        # initialize an empty char store\n",
    "        test_X = np.zeros(shape=(1, char_size))\n",
    "        # store it in id from\n",
    "        test_X[0, char_2_idx[test_start[i]]] = 1.\n",
    "        # feed it to model, test_prediction is the output value\n",
    "        _ = sess.run(test_prediction, feed_dict={test_data: test_X})\n",
    "\n",
    "    \n",
    "    #where we store encoded char predictions\n",
    "    test_X = np.zeros((1, char_size))\n",
    "    test_X[0, char_2_idx[test_start[-1]]] = 1.\n",
    "\n",
    "    #lets generate 500 characters\n",
    "    for i in range(500):\n",
    "        # get each prediction probability\n",
    "        prediction = test_prediction.eval({test_data: test_X})[0]\n",
    "        # one hot encode it\n",
    "        next_char_one_hot = sample(prediction)\n",
    "        # get the indices of the max values (highest probability)  and convert to char\n",
    "        next_char = idx_2_char[np.argmax(next_char_one_hot)]\n",
    "        # add each char to the output text iteratively\n",
    "        test_generated += next_char\n",
    "        # update the char store\n",
    "        test_X = next_char_one_hot.reshape((1, char_size))\n",
    "    \n",
    "    print(100*'=', '\\n')\n",
    "    print(test_generated)"
   ]
  },
  {
   "cell_type": "code",
   "execution_count": null,
   "metadata": {
    "collapsed": true
   },
   "outputs": [],
   "source": []
  }
 ],
 "metadata": {
  "kernelspec": {
   "display_name": "Python 3",
   "language": "python",
   "name": "python3"
  },
  "language_info": {
   "codemirror_mode": {
    "name": "ipython",
    "version": 3
   },
   "file_extension": ".py",
   "mimetype": "text/x-python",
   "name": "python",
   "nbconvert_exporter": "python",
   "pygments_lexer": "ipython3",
   "version": "3.6.2"
  }
 },
 "nbformat": 4,
 "nbformat_minor": 2
}
