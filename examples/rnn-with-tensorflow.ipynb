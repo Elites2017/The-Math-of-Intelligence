{
 "cells": [
  {
   "cell_type": "markdown",
   "metadata": {},
   "source": [
    "# Recurrent Neural Network w/ `tensorflow`"
   ]
  },
  {
   "cell_type": "code",
   "execution_count": 1,
   "metadata": {
    "collapsed": true
   },
   "outputs": [],
   "source": [
    "import os.path\n",
    "import random\n",
    "import datetime\n",
    "\n",
    "import numpy as np\n",
    "import tensorflow as tf"
   ]
  },
  {
   "cell_type": "markdown",
   "metadata": {},
   "source": [
    "## data file path"
   ]
  },
  {
   "cell_type": "code",
   "execution_count": 2,
   "metadata": {
    "collapsed": true
   },
   "outputs": [],
   "source": [
    "data_dir = '../datasets/wikitext-2-raw'\n",
    "train_file = 'wiki.train.raw'\n",
    "test_file = 'wiki.test.raw'\n",
    "valid_file = 'wiki.valid.raw'\n",
    "\n",
    "chkpt_dir = 'chkpt_dir/'"
   ]
  },
  {
   "cell_type": "markdown",
   "metadata": {},
   "source": [
    "## read training data"
   ]
  },
  {
   "cell_type": "code",
   "execution_count": 3,
   "metadata": {
    "collapsed": false
   },
   "outputs": [
    {
     "name": "stdout",
     "output_type": "stream",
     "text": [
      "Number of characters is 100,000\n"
     ]
    }
   ],
   "source": [
    "data = open(os.path.join(data_dir, valid_file), 'r').read()\n",
    "data = data[:100000]\n",
    "print('Number of characters is {:,}'.format(len(data)))\n",
    "\n"
   ]
  },
  {
   "cell_type": "markdown",
   "metadata": {},
   "source": [
    "## pre-processing"
   ]
  },
  {
   "cell_type": "code",
   "execution_count": 4,
   "metadata": {
    "collapsed": false
   },
   "outputs": [
    {
     "name": "stdout",
     "output_type": "stream",
     "text": [
      "Char size: 99\n",
      "['\\n', ' ', '!', '\"', '$', '%', '&', \"'\", '(', ')', ',', '-', '.', '/', '0', '1', '2', '3', '4', '5', '6', '7', '8', '9', ':', ';', '<', '=', '@', 'A', 'B', 'C', 'D', 'E', 'F', 'G', 'H', 'I', 'J', 'K', 'L', 'M', 'N', 'O', 'P', 'Q', 'R', 'S', 'T', 'U', 'V', 'W', 'X', 'Y', 'Z', 'a', 'b', 'c', 'd', 'e', 'f', 'g', 'h', 'i', 'j', 'k', 'l', 'm', 'n', 'o', 'p', 'q', 'r', 's', 't', 'u', 'v', 'w', 'x', 'y', 'z', '°', 'é', 'ō', 'ū', '–', '—', '′', 'の', 'カ', 'シ', 'マ', 'ル', '似', '奈', '影', '真', '良', '術']\n"
     ]
    }
   ],
   "source": [
    "chars = sorted(list(set(data)))\n",
    "char_size = len(chars)\n",
    "print('Char size: {:,}'.format(char_size))\n",
    "print(chars)"
   ]
  },
  {
   "cell_type": "code",
   "execution_count": 5,
   "metadata": {
    "collapsed": true
   },
   "outputs": [],
   "source": [
    "char_2_idx = {ch: i for i,ch in enumerate(chars)}\n",
    "idx_2_char = {i: ch for i,ch in enumerate(chars)}"
   ]
  },
  {
   "cell_type": "markdown",
   "metadata": {},
   "source": [
    "## helper methods\n",
    "### Generate probability for each next char"
   ]
  },
  {
   "cell_type": "code",
   "execution_count": 6,
   "metadata": {
    "collapsed": true
   },
   "outputs": [],
   "source": [
    "def sample(prediction):\n",
    "    r = np.random.uniform(0, 1)\n",
    "    s = 0  # store prediction character\n",
    "    char_id = len(prediction) - 1\n",
    "    # each char in prediction probability\n",
    "    for i, pred in enumerate(prediction):\n",
    "        s += pred\n",
    "        if s >= r:\n",
    "            char_id = i\n",
    "            break\n",
    "    # one hot encoding of the char\n",
    "    char_one_hot = np.zeros(shape=[char_size])\n",
    "    char_one_hot[char_id] = 1.\n",
    "    return char_one_hot"
   ]
  },
  {
   "cell_type": "markdown",
   "metadata": {},
   "source": [
    "## vectorize data"
   ]
  },
  {
   "cell_type": "code",
   "execution_count": 7,
   "metadata": {
    "collapsed": false
   },
   "outputs": [
    {
     "name": "stdout",
     "output_type": "stream",
     "text": [
      "Vectorizing...\n"
     ]
    }
   ],
   "source": [
    "len_per_section = 50  # size of sentence i.e 50 char long\n",
    "skip = 2  # skip of 2 will produce sth like this:\n",
    "# How are you\n",
    "# w are you d\n",
    "# are you doin\n",
    "# e you doing \n",
    "# you doing to\n",
    "# ...\n",
    "sections = []\n",
    "next_chars = []\n",
    "\n",
    "for i in range(0, len(data) - len_per_section, skip):\n",
    "    sections.append(data[i: i+len_per_section])\n",
    "    next_chars.append(data[i+len_per_section])\n",
    "\n",
    "# Vectorize\n",
    "X = np.zeros(shape=[len(sections), len_per_section, char_size])\n",
    "y = np.zeros(shape=[len(sections), char_size])\n",
    "print('Vectorizing...')\n",
    "for i, section in enumerate(sections):\n",
    "    for j, char in enumerate(section):\n",
    "        X[i, j, char_2_idx[char]] = 1.\n",
    "    y[i, char_2_idx[next_chars[i]]] = 1."
   ]
  },
  {
   "cell_type": "markdown",
   "metadata": {},
   "source": [
    "## Hyperparameters"
   ]
  },
  {
   "cell_type": "code",
   "execution_count": 8,
   "metadata": {
    "collapsed": false
   },
   "outputs": [
    {
     "name": "stdout",
     "output_type": "stream",
     "text": [
      "Training size = 49,975\n",
      "Approx. steps per epochs = 195\n"
     ]
    }
   ],
   "source": [
    "batch_size = 256\n",
    "max_steps = 50000\n",
    "log_step = 1000\n",
    "save_every = 5000\n",
    "hidden_nodes = 1024\n",
    "test_start = 'I am thinking that '\n",
    "\n",
    "# create a check point dir\n",
    "if tf.gfile.Exists(chkpt_dir):\n",
    "    tf.gfile.DeleteRecursively(chkpt_dir)\n",
    "tf.gfile.MakeDirs(chkpt_dir)\n",
    "\n",
    "print('Training size = {:,}'.format(len(X)))\n",
    "print('Approx. steps per epochs = {:,}'.format(int(len(X)/batch_size)))"
   ]
  },
  {
   "cell_type": "markdown",
   "metadata": {},
   "source": [
    "## Build network"
   ]
  },
  {
   "cell_type": "code",
   "execution_count": null,
   "metadata": {
    "collapsed": true
   },
   "outputs": [],
   "source": [
    "graph = tf.Graph()\n",
    "with graph.as_default():\n",
    "    global_step = tf.Variable(0)\n",
    "    # inputs and outputs\n",
    "    inputs = tf.placeholder(tf.float32, [batch_size, len_per_section, char_size])\n",
    "    labels = tf.placeholder(tf.float32, [batch_size, char_size])\n",
    "    # Input gate\n",
    "    Wii = tf.Variable(tf.truncated_normal(shape=[char_size, hidden_nodes], mean=0, stddev=0.1))\n",
    "    Wio = tf.Variable(tf.truncated_normal(shape=[hidden_nodes, hidden_nodes], mean=0, stddev=0.1))\n",
    "    b_i = tf.Variable(tf.zeros(shape=[1, hidden_nodes]))\n",
    "    # Forget gate\n",
    "    Wfi = tf.Variable(tf.truncated_normal(shape=[char_size, hidden_nodes], mean=0, stddev=0.1))\n",
    "    Wfo = tf.Variable(tf.truncated_normal(shape=[hidden_nodes, hidden_nodes], mean=0, stddev=0.1))\n",
    "    b_f = tf.Variable(tf.zeros(shape=[1, hidden_nodes]))\n",
    "    # Ouput gate\n",
    "    Woi = tf.Variable(tf.truncated_normal(shape=[char_size, hidden_nodes], mean=0, stddev=0.1))\n",
    "    Woo = tf.Variable(tf.truncated_normal(shape=[hidden_nodes, hidden_nodes], mean=0, stddev=0.1))\n",
    "    b_o = tf.Variable(tf.zeros(shape=[1, hidden_nodes]))\n",
    "    # Memory cell\n",
    "    Wci = tf.Variable(tf.truncated_normal(shape=[char_size, hidden_nodes], mean=0, stddev=0.1))\n",
    "    Wco = tf.Variable(tf.truncated_normal(shape=[hidden_nodes, hidden_nodes], mean=0, stddev=0.1))\n",
    "    b_c = tf.Variable(tf.zeros(shape=[1, hidden_nodes]))\n",
    "    \n",
    "    # LSTM\n",
    "    def lstm(inputs, outputs, state):\n",
    "        # (inputs*input weight) + (output*prev output weight) + bias\n",
    "        input_gate = tf.nn.sigmoid(tf.matmul(inputs, Wii) + tf.matmul(labels, Wio) + b_i)\n",
    "        # (inputs*forget weight) + (output*prev output weight) + bias\n",
    "        forget_gate = tf.nn.sigmoid(tf.matmul(inputs, Wfi) + tf.matmul(labels, Wfo) + b_f)\n",
    "        # (inputs*output weight) + (output*prev output weight) + bias\n",
    "        output_gate = tf.nn.sigmoid(tf.matmul(inputs, Woi) + tf.matmul(labels, Woo) + b_o)\n",
    "        # (inputs*cell weight) + (output*prev output weight) + bias\n",
    "        memory_cell = tf.nn.sigmoid(tf.matmul(inputs, Wci) + tf.matmul(labels, Wco) + b_c)\n",
    "        \n",
    "        # !- the internal hidden state = (forget_gate * state) + (input_gate * memory_cell)\n",
    "        state = forget_gate * state + input_gate * memory_cell\n",
    "        output = output_gate * tf.nn.tanh(state)\n",
    "        return output, state\n",
    "    \n",
    "    # Calculate the LSTM values over time...\n",
    "    output = tf.zeros(shape=[batch_size, hidden_nodes])\n",
    "    state = tf.zeros(shape=[batch_size, hidden_nodes])\n",
    "    # unroll the net in time\n",
    "    for i in range(len_per_section):\n",
    "        output, state = lstm(inputs[:, i, :], output, state)\n",
    "        if i == 0:\n",
    "            # store initial outputs and labels\n",
    "            outputs_all_i = output\n",
    "            labels_all_i = inputs[:, i+1, :]\n",
    "        elif i != len_per_section - 1:\n",
    "            # combine vectors along axis [not multiply]\n",
    "            outputs_all_i = tf.concat(0, [outputs_all_i, output])\n",
    "            labels_all_i = tf.concat(0, [labels_all_i, inputs[:, i+1, :]])\n",
    "        else:\n",
    "            # final store\n",
    "            outputs_all_i = tf.concat(0, [outputs_all_i, output])\n",
    "            labels_all_i = tf.concat(0, [labels_all_i, labels])"
   ]
  }
 ],
 "metadata": {
  "kernelspec": {
   "display_name": "Python 3",
   "language": "python",
   "name": "python3"
  },
  "language_info": {
   "codemirror_mode": {
    "name": "ipython",
    "version": 3
   },
   "file_extension": ".py",
   "mimetype": "text/x-python",
   "name": "python",
   "nbconvert_exporter": "python",
   "pygments_lexer": "ipython3",
   "version": "3.6.2"
  }
 },
 "nbformat": 4,
 "nbformat_minor": 2
}
